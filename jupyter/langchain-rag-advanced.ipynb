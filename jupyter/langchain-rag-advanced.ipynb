{
 "cells": [
  {
   "cell_type": "markdown",
   "metadata": {},
   "source": [
    "### Advanced RAG\n"
   ]
  },
  {
   "cell_type": "code",
   "execution_count": 1,
   "metadata": {},
   "outputs": [],
   "source": [
    "!pip install -q dotenv jsonlines openai langchain langchain-openai langchain-community chromadb langchain-chroma tiktoken rank_bm25 pymupdf kiwipiepy"
   ]
  },
  {
   "cell_type": "markdown",
   "metadata": {},
   "source": [
    "### 1. Indexing\n",
    "데이터를 불러옵니다."
   ]
  },
  {
   "cell_type": "code",
   "execution_count": 4,
   "metadata": {},
   "outputs": [
    {
     "name": "stdout",
     "output_type": "stream",
     "text": [
      "2\n"
     ]
    },
    {
     "data": {
      "text/plain": [
       "'목 차 분 기 보 고 서.1 【 대표이사 등의 확인 】.2 I. 회사의 개요.3 1. 회사의 개요.3 2. 회사의 연혁.3 3. 자본금 변동사항.3 4. 주식의 총수 등.3 5. 정관에 관한 사항.3 II. 사업의 내용.4 1. 사업의 개요.4 2. 주요 제품 및 서비스.6 3. 원재료 및 생산설비.7 4. 매출 및 수주상황.14 5. 위험관리 및 파생거래.19 6. 주요계약 및 연구개발활동.25 7. 기타 참고사항.30 III. 재무에 관한 사항.50 1. 요약재무정보.50 2. 연결재무제표.53 2-1. 연결 재무상태표.53 2-2. 연결 손익계산서.55 2-3. 연결 포괄손익계산서.56 2-4. 연결 자본변동표.57 2-5. 연결 현금흐름표.58 3. 연결재무제표 주석.60 1. 일반적 사항 (연결).60 2. 중요한 회계처리방침 (연결) .70 3. 범주별 금융상품 (연결) .72 4. 공정가치금융자산 (연결).73 5. 재고자산 (연결) .75 6. 관계기업 및 공동기업 투자 (연결).75 7. 유형자산 (연결) .79 8. 무형자산 (연결) .81 9. 차입금 (연결).82 10. 사채 (연결) .83 11. 순확정급여부채(자산) (연결).84 12. 충당부채 (연결) .85 13. 우발부채와 약정사항 (연결) .87 14. 계약부채 (연결) .87 15. 자본금 (연결).88 16. 연결이익잉여금 (연결) .89 17. 기타자본항목 (연결).90 18. 비용의 성격별 분류 (연결) .91 19. 판매비와관리비 (연결) .92 20. 기타수익 및 기타비용 (연결).93 21. 금융수익 및 금융비용 (연결).93 22. 법인세비용 (연결).94 23. 주당이익 (연결) .95 24. 현금흐름표 (연결).95 25. 재무위험관리 (연결).98 26. 부문별 보고 (연결).110 27. 특수관계자와의 거래 (연결) .112 28. 매각예정분류(처분자산집단) (연결) .114 4. 재무제표.116 4-1. 재무상태표.116 4-2. 손익계산서.118 4-3'"
      ]
     },
     "execution_count": 4,
     "metadata": {},
     "output_type": "execute_result"
    }
   ],
   "source": [
    "import os\n",
    "from dotenv import load_dotenv\n",
    "from langchain.schema import Document\n",
    "from langchain_openai import OpenAIEmbeddings\n",
    "from langchain_chroma import Chroma\n",
    "from langchain_community.document_loaders import PyMuPDFLoader\n",
    "\n",
    "load_dotenv(override=True)\n",
    "\n",
    "# 모든 PDF 파일을 glob으로 찾음\n",
    "pdf_files = [\"./data/langchain-rag-advanced-[삼성전자]분기보고서(2024.05.16).pdf\", \"./data/langchain-rag-advanced-[삼성전자]분기보고서(2024.11.14).pdf\"]\n",
    "\n",
    "# 각 PDF 파일에서 페이지별로 내용을 불러와 하나로 합침\n",
    "all_papers=[]\n",
    "\n",
    "for i, path_paper in enumerate(pdf_files):\n",
    "    loader = PyMuPDFLoader(path_paper)\n",
    "    pages = loader.load()\n",
    "    doc = Document(page_content='', metadata = {'index':i, 'source':pages[0].metadata['source']})\n",
    "    for page in pages:\n",
    "        doc.page_content += page.page_content +' '\n",
    "\n",
    "    doc.page_content = doc.page_content.replace('\\n', ' ')\n",
    "    for _ in range(10):\n",
    "        doc.page_content = doc.page_content.replace('  ', ' ')\n",
    "        doc.page_content = doc.page_content.replace('..', '.')\n",
    "\n",
    "    all_papers.append(doc)\n",
    "\n",
    "print(len(all_papers))\n",
    "all_papers[0].page_content[:1000]"
   ]
  },
  {
   "cell_type": "code",
   "execution_count": 5,
   "metadata": {},
   "outputs": [
    {
     "name": "stdout",
     "output_type": "stream",
     "text": [
      "189758 105094 ./data/langchain-rag-advanced-[삼성전자]분기보고서(2024.05.16).pdf\n",
      "178571 100688 ./data/langchain-rag-advanced-[삼성전자]분기보고서(2024.11.14).pdf\n"
     ]
    }
   ],
   "source": [
    "import tiktoken\n",
    "\n",
    "encoder = tiktoken.encoding_for_model('gpt-4o-mini')\n",
    "for paper in all_papers:\n",
    "    print(len(paper.page_content), len(encoder.encode(paper.page_content)), paper.metadata['source'])"
   ]
  },
  {
   "cell_type": "markdown",
   "metadata": {},
   "source": [
    "### 2. Chunking"
   ]
  },
  {
   "cell_type": "code",
   "execution_count": 6,
   "metadata": {},
   "outputs": [
    {
     "name": "stdout",
     "output_type": "stream",
     "text": [
      "260\n"
     ]
    }
   ],
   "source": [
    "from langchain_text_splitters import RecursiveCharacterTextSplitter\n",
    "import tiktoken\n",
    "\n",
    "token_splitter = RecursiveCharacterTextSplitter.from_tiktoken_encoder(\n",
    "    # 토큰 수 기반의 청킹 (from_huggingface_tokenizer도 가능)\n",
    "    model_name=\"gpt-4o-mini\",\n",
    "    chunk_size=1000,\n",
    "    chunk_overlap=200,\n",
    ")\n",
    "\n",
    "\n",
    "token_chunks = token_splitter.split_documents(all_papers)\n",
    "print(len(token_chunks))"
   ]
  },
  {
   "cell_type": "code",
   "execution_count": 7,
   "metadata": {},
   "outputs": [],
   "source": [
    "from langchain_chroma import Chroma\n",
    "from langchain_openai import OpenAIEmbeddings\n",
    "\n",
    "embeddings = OpenAIEmbeddings(model = 'text-embedding-3-large', chunk_size = 100)\n",
    "\n",
    "Chroma().delete_collection()\n",
    "\n",
    "\n",
    "db = Chroma(\n",
    "    embedding_function=embeddings,\n",
    "    persist_directory=\"./chroma_Web\",\n",
    "    collection_metadata={'hnsw:space':'l2'}\n",
    ")\n",
    "\n",
    "db.add_documents(token_chunks)\n",
    "\n",
    "# filter 옵션을 통해 특정 메타데이터를 가진 벡터만 검색 가능\n",
    "# retriever = db.as_retriever(search_kwargs={\"k\": 5,\"filter\":{'author':'Hyungho Byun'}})\n",
    "retriever = db.as_retriever(search_kwargs={\"k\": 5})"
   ]
  },
  {
   "cell_type": "code",
   "execution_count": null,
   "metadata": {},
   "outputs": [],
   "source": []
  }
 ],
 "metadata": {
  "kernelspec": {
   "display_name": "base",
   "language": "python",
   "name": "python3"
  },
  "language_info": {
   "codemirror_mode": {
    "name": "ipython",
    "version": 3
   },
   "file_extension": ".py",
   "mimetype": "text/x-python",
   "name": "python",
   "nbconvert_exporter": "python",
   "pygments_lexer": "ipython3",
   "version": "3.12.9"
  }
 },
 "nbformat": 4,
 "nbformat_minor": 2
}
