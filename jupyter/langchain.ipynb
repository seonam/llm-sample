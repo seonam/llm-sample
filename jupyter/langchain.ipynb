{
 "cells": [
  {
   "cell_type": "markdown",
   "metadata": {},
   "source": [
    "## Langchain 호출 샘플"
   ]
  },
  {
   "cell_type": "code",
   "execution_count": 10,
   "metadata": {},
   "outputs": [],
   "source": [
    "!pip install -q pandas langchain_community openai langchain langchain_openai langchain_google_genai"
   ]
  },
  {
   "cell_type": "code",
   "execution_count": 3,
   "metadata": {},
   "outputs": [
    {
     "data": {
      "text/plain": [
       "True"
      ]
     },
     "execution_count": 3,
     "metadata": {},
     "output_type": "execute_result"
    }
   ],
   "source": [
    "import os\n",
    "from dotenv import load_dotenv\n",
    "\n",
    "load_dotenv(override=True)"
   ]
  },
  {
   "cell_type": "code",
   "execution_count": 6,
   "metadata": {},
   "outputs": [
    {
     "name": "stdout",
     "output_type": "stream",
     "text": [
      "GPT: 안녕하세요, 저는 GPT-4 기반의 AI 언어 모델 ChatGPT입니다.\n",
      "\n",
      "Gemini: 저는 Google에서 개발한 Gemini Pro이고, 여러분의 다양한 질문에 답하고 창의적인 텍스트 형식을 제공할 수 있는 대규모 언어 모델입니다.\n",
      "\n"
     ]
    }
   ],
   "source": [
    "from langchain_openai import ChatOpenAI\n",
    "from langchain.chat_models import init_chat_model\n",
    "from langchain_core.rate_limiters import InMemoryRateLimiter\n",
    "\n",
    "# 방법 1. 구체적인 구현체로 생성\n",
    "llm = ChatOpenAI(model = 'gpt-4.1-mini', temperature=0.1, max_tokens=1024)\n",
    "\n",
    "# Gemini 2.0 Flash는 분당 15개 요청 제한,\n",
    "# 안정적 서빙을 위해 분당 10개 설정\n",
    "# 즉, 초당 약 0.167개 요청 (10/60)\n",
    "# `https://aistudio.google.com/`에서 모델별 사용량 확인\n",
    "rate_limiter = InMemoryRateLimiter(\n",
    "    requests_per_second=0.167,  # 분당 10개 요청\n",
    "    check_every_n_seconds=0.1,  # 100ms마다 체크\n",
    "    max_bucket_size=10,  # 최대 버스트 크기\n",
    ")\n",
    "\n",
    "# 방법 2. 추상화된 클래스로 생성\n",
    "gpt_llm = init_chat_model(\n",
    "    \"gpt-4.1-mini\", model_provider=\"openai\", temperature=0)\n",
    "\n",
    "gemini_llm = init_chat_model(\n",
    "    \"gemini-2.0-flash\", model_provider=\"google_genai\", temperature=0, rate_limiter=rate_limiter\n",
    ")\n",
    "\n",
    "prompt = '모델명과 함께 자기소개를 한줄로 부탁해.'\n",
    "\n",
    "print(\"GPT: \" + gpt_llm.invoke(prompt).content + \"\\n\")\n",
    "print(\"Gemini: \" + gemini_llm.invoke(prompt).content + \"\\n\")"
   ]
  },
  {
   "cell_type": "markdown",
   "metadata": {},
   "source": [
    "Langchain 입출력은 아래와 같습니다.\n",
    "\n",
    "### 입력\n",
    "#### 문자열\n",
    "```python\n",
    "llm.invoke('안녕')\n",
    "llm.stream('안녕')\n",
    "```\n",
    "#### Message 클래스\n",
    "- HumanMessage\n",
    "- SystemMessage\n",
    "#### Prompt Template\n",
    "- PromptTemplate\n",
    "- ChatPromptTemplate\n",
    "### 출력\n",
    "AIMessage 클래스를 출력합니다."
   ]
  },
  {
   "cell_type": "code",
   "execution_count": null,
   "metadata": {},
   "outputs": [
    {
     "name": "stdout",
     "output_type": "stream",
     "text": [
      "당신은 영화의 줄거리를 이모지만으로 요약하는 챗봇입니다. 쉰들러 리스트에 대해 설명하세요.\n"
     ]
    }
   ],
   "source": [
    "from langchain_core.messages import HumanMessage, SystemMessage, AIMessage\n",
    "from langchain.prompts import PromptTemplate, ChatPromptTemplate\n",
    "\n",
    "# 방법 1. 문자열 이용\n",
    "question = '''전 세계적으로 흥행한 영화에 나오는 인기있는 악역을 하나 소개해 주세요.\n",
    "배경과 의미도 설명해 주세요.'''\n",
    "# llm.invoke(question)\n",
    "\n",
    "# 스트리밍\n",
    "# for chunk in llm.stream(question):\n",
    "#     print(chunk.content, end='')\n",
    "\n",
    "# 방법 2. 메세지 이용\n",
    "messages = [\n",
    "    SystemMessage('당신은 항상 부정적인 말만 하는 챗봇입니다. 첫 문장은 항상 사용자의 의견을 반박하세요.'),\n",
    "    HumanMessage('랭체인을 배우면 어떤 유용한 점이 있나요? 자세히 설명해주세요.')\n",
    "]\n",
    "# llm.invoke(messages)\n",
    "\n",
    "# 방법 3. 프롬프트 템플릿 이용\n",
    "explain_template = \"{topic}에 대해 {style}로 설명하세요.\"\n",
    "explain_prompt = PromptTemplate(template = explain_template)\n",
    "# llm.invoke(explain_prompt.format(topic='LLM의 미래', style='부정적인 전망으'))\n",
    "\n",
    "# System, AI 등의 메시지를 포함하기 위해서는 ChatPromptTemplate를 사용합니다.\n",
    "chat_prompt = ChatPromptTemplate([\n",
    "    (\"system\", '당신은 항상 이모지로만 대답합니다.'),\n",
    "    (\"user\", '{topic}에 대해 설명해주세요.')\n",
    "    # 역할은 4개 (user = human), (ai = assistant)\n",
    "])\n",
    "# llm.invoke(prompt.format_messages(A='랭체인'))"
   ]
  },
  {
   "cell_type": "markdown",
   "metadata": {},
   "source": [
    "### LCEL\n",
    "\n",
    "LCEL 을 이용하면 파이프를 통해 템플릿, LLM 모델, 파서 등을 묶어 하나의 체인을 생성할 수 있습니다."
   ]
  },
  {
   "cell_type": "code",
   "execution_count": 11,
   "metadata": {},
   "outputs": [],
   "source": [
    "!pip install -q langchain langchain-ollama google-generativeai langchain_google_genai langchain_openai dotenv"
   ]
  },
  {
   "cell_type": "code",
   "execution_count": 23,
   "metadata": {},
   "outputs": [
    {
     "data": {
      "text/plain": [
       "AIMessage(content='저는 Google에서 개발한 대규모 언어 모델인 Gemma입니다. 저는 오픈 웨이트 모델이며, 다양한 텍스트 및 이미지 프롬프트를 이해하고 텍스트를 생성할 수 있습니다. \\n\\n저는 아직 개발 중이며, 완벽하지 않을 수 있습니다. 하지만 끊임없이 배우고 발전하고 있습니다. \\n\\n궁금한 점이 있다면 언제든지 물어보세요!', additional_kwargs={}, response_metadata={'model': 'gemma3:4b', 'created_at': '2025-08-10T02:43:22.267014Z', 'done': True, 'done_reason': 'stop', 'total_duration': 4833342208, 'load_duration': 1684629208, 'prompt_eval_count': 14, 'prompt_eval_duration': 1163121167, 'eval_count': 83, 'eval_duration': 1984925625, 'model_name': 'gemma3:4b'}, id='run--5fc5fb1f-7ad9-4567-95c7-2c0157e66421-0', usage_metadata={'input_tokens': 14, 'output_tokens': 83, 'total_tokens': 97})"
      ]
     },
     "execution_count": 23,
     "metadata": {},
     "output_type": "execute_result"
    }
   ],
   "source": [
    "from langchain_ollama import ChatOllama\n",
    "\n",
    "llm = ChatOllama(\n",
    "    model='gemma3:4b',\n",
    "    temperature = 0.2,\n",
    "    max_tokens = 512\n",
    ")\n",
    "\n",
    "llm.invoke(\"너는 누구니?\")"
   ]
  },
  {
   "cell_type": "code",
   "execution_count": 39,
   "metadata": {},
   "outputs": [
    {
     "data": {
      "text/plain": [
       "AIMessage(content='## 대한민국에 대해 알아봅시다!\\n\\n대한민국은 동아시아의 한반도 남부에 위치한 민주주의 국가입니다. 복잡하고 다층적인 역사를 가지고 있으며, 급격한 경제 성장과 함께 세계적으로 중요한 국가로 자리매김했습니다. \\n\\n**1. 기본 정보**\\n\\n*   **정식 명칭:** 대한민국 (Republic of Korea)\\n*   **수도:** 서울특별시 (Seoul)\\n*   **언어:** 한국어\\n*   **인구:** 약 5,179만 명 (2023년 기준)\\n*   **면적:** 약 10만 제곱킬로미터\\n*   **정부 형태:** 대통령 중심제 민주 공화국\\n*   **화폐:** 원 (KRW)\\n*   **기독교:** 가장 큰 종교 (약 27%)\\n*   **불교:** 주요 종교 (약 19%)\\n*   **무교:** 약 54%\\n\\n**2. 역사**\\n\\n*   **고대:** 경주를 중심으로 고구려, 백제, 신라 삼국이 존재했습니다.\\n*   **고려:** 불교 문화를 발전시키고, 한자를 받아들여 문화 발전에 큰 영향을 미쳤습니다.\\n*   **조선:** 유교를 통치 이념으로 삼고, 한글을 창제하여 독자적인 문자를 만들었습니다.\\n*   **일제강점기 (1910-1945):** 일본의 식민 지배를 받았습니다.\\n*   **분단 (1945):** 제2차 세계 대전 이후, 한반도는 남북으로 분단되었습니다.\\n*   **한국 전쟁 (1950-1953):** 남북 간의 전쟁으로, 많은 인명 피해와 사회 기반 시설 파괴를 초래했습니다.\\n*   **경제 성장 (1960년대 이후):** ‘한강의 기적’이라 불리는 급격한 경제 성장을 이루었습니다.\\n*   **민주화 (1987년 이후):** 민주화 운동을 통해 민주주의 체제를 확립했습니다.\\n\\n**3. 문화**\\n\\n*   **음식:** 김치, 불고기, 비빔밥 등 다양한 전통 음식을 즐깁니다. 최근에는 퓨전 음식과 세계 음식도 인기를 얻고 있습니다.\\n*   **전통 의상:** 한복은 한국의 전통 의상으로, 아름다운 색상과 디자인으로 유명합니다.\\n*   **전통 음악:** 아리랑, 정겨운 등 다양한 전통 음악이 있습니다.\\n*   **영화 및 드라마:** 최근에는 ‘기생충’, ‘오징어 게임’ 등 세계적으로 유명한 영화 및 드라마를 제작하며, 한국 문화의 영향력을 확대하고 있습니다.\\n*   **K팝:** BTS, 블랙핑크 등 K팝 그룹은 전 세계적으로 큰 인기를 얻고 있습니다.\\n\\n**4. 경제**\\n\\n*   **주요 산업:** 반도체, 자동차, 조선, IT, 화학 등 다양한 산업이 발달했습니다.\\n*   **세계 경제 강국:** 세계 10위권의 경제 규모를 가지고 있으며, 세계 경제에서 중요한 역할을 하고 있습니다.\\n*   **IT 강국:** 세계 최고 수준의 인터넷 보급률을 가지고 있으며, IT 산업이 발달했습니다.\\n\\n**5. 관광**\\n\\n*   **서울:** 경복궁, 창덕궁, 남산, 명동 등 다양한 관광 명소가 있습니다.\\n*   **부산:** 해운대, 광안리 등 아름다운 해변과 자갈길이 유명합니다.\\n*   **제주도:** 아름다운 자연 경관과 다양한 관광 명소가 있습니다.\\n*   **경주:** 불국사, 첨성대 등 역사 유적지가 많습니다.\\n\\n**더 자세한 정보를 원하시면 다음 질문을 해주세요:**\\n\\n*   특정 시대나 사건에 대해 더 자세히 알고 싶으신가요?\\n*   특정 분야 (예: 경제, 문화, 관광)에 대해 더 자세히 알고 싶으신가요?\\n*   대한민국에 대해 궁금한 점이 있다면 무엇이든 물어보세요!', additional_kwargs={}, response_metadata={'model': 'gemma3:4b', 'created_at': '2025-08-10T03:03:59.238326Z', 'done': True, 'done_reason': 'stop', 'total_duration': 22887696666, 'load_duration': 73639791, 'prompt_eval_count': 15, 'prompt_eval_duration': 141640625, 'eval_count': 913, 'eval_duration': 22672033208, 'model_name': 'gemma3:4b'}, id='run--ebc7db64-c90a-4295-ae7d-23e9b2884e57-0', usage_metadata={'input_tokens': 15, 'output_tokens': 913, 'total_tokens': 928})"
      ]
     },
     "execution_count": 39,
     "metadata": {},
     "output_type": "execute_result"
    }
   ],
   "source": [
    "from langchain.prompts import ChatPromptTemplate\n",
    "\n",
    "template = ChatPromptTemplate([\n",
    "    ('user', \"\"\"{topic}에 대해 알려줘\"\"\")\n",
    "])\n",
    "\n",
    "# llm.invoke(template.format_messages(topic='대한민국')) 와 동일\n",
    "chain = template | llm\n",
    "chain.invoke({ 'topic': '대한민국' })\n",
    "\n",
    "# 병렬로 전달 가능\n",
    "# await chain.abatch(['대한민국', '일본'])"
   ]
  },
  {
   "cell_type": "markdown",
   "metadata": {},
   "source": [
    "체인은 Runnable 인터페이스를 구현하며 invoke 를 통해 Dict 형식으로 입력값이 전달됩니다.\n",
    "\n",
    "llm, prompt, chain 등 모두 Runnable 을 구현하여 invoke 를 수행할 수 있습니다."
   ]
  },
  {
   "cell_type": "code",
   "execution_count": 40,
   "metadata": {},
   "outputs": [
    {
     "data": {
      "text/html": [
       "<pre style=\"white-space:pre;overflow-x:auto;line-height:normal;font-family:Menlo,'DejaVu Sans Mono',consolas,'Courier New',monospace\"><span style=\"color: #800080; text-decoration-color: #800080; font-weight: bold\">RunnableSequence</span><span style=\"font-weight: bold\">(</span>\n",
       "    <span style=\"color: #808000; text-decoration-color: #808000\">first</span>=<span style=\"color: #800080; text-decoration-color: #800080; font-weight: bold\">ChatPromptTemplate</span><span style=\"font-weight: bold\">(</span>\n",
       "        <span style=\"color: #808000; text-decoration-color: #808000\">input_variables</span>=<span style=\"font-weight: bold\">[</span><span style=\"color: #008000; text-decoration-color: #008000\">'topic'</span><span style=\"font-weight: bold\">]</span>,\n",
       "        <span style=\"color: #808000; text-decoration-color: #808000\">input_types</span>=<span style=\"font-weight: bold\">{}</span>,\n",
       "        <span style=\"color: #808000; text-decoration-color: #808000\">partial_variables</span>=<span style=\"font-weight: bold\">{}</span>,\n",
       "        <span style=\"color: #808000; text-decoration-color: #808000\">messages</span>=<span style=\"font-weight: bold\">[</span>\n",
       "            <span style=\"color: #800080; text-decoration-color: #800080; font-weight: bold\">HumanMessagePromptTemplate</span><span style=\"font-weight: bold\">(</span>\n",
       "                <span style=\"color: #808000; text-decoration-color: #808000\">prompt</span>=<span style=\"color: #800080; text-decoration-color: #800080; font-weight: bold\">PromptTemplate</span><span style=\"font-weight: bold\">(</span>\n",
       "                    <span style=\"color: #808000; text-decoration-color: #808000\">input_variables</span>=<span style=\"font-weight: bold\">[</span><span style=\"color: #008000; text-decoration-color: #008000\">'topic'</span><span style=\"font-weight: bold\">]</span>,\n",
       "                    <span style=\"color: #808000; text-decoration-color: #808000\">input_types</span>=<span style=\"font-weight: bold\">{}</span>,\n",
       "                    <span style=\"color: #808000; text-decoration-color: #808000\">partial_variables</span>=<span style=\"font-weight: bold\">{}</span>,\n",
       "                    <span style=\"color: #808000; text-decoration-color: #808000\">template</span>=<span style=\"color: #008000; text-decoration-color: #008000\">'{topic}에 대해 알려줘'</span>\n",
       "                <span style=\"font-weight: bold\">)</span>,\n",
       "                <span style=\"color: #808000; text-decoration-color: #808000\">additional_kwargs</span>=<span style=\"font-weight: bold\">{}</span>\n",
       "            <span style=\"font-weight: bold\">)</span>\n",
       "        <span style=\"font-weight: bold\">]</span>\n",
       "    <span style=\"font-weight: bold\">)</span>,\n",
       "    <span style=\"color: #808000; text-decoration-color: #808000\">middle</span>=<span style=\"font-weight: bold\">[]</span>,\n",
       "    <span style=\"color: #808000; text-decoration-color: #808000\">last</span>=<span style=\"color: #800080; text-decoration-color: #800080; font-weight: bold\">ChatOllama</span><span style=\"font-weight: bold\">(</span><span style=\"color: #808000; text-decoration-color: #808000\">model</span>=<span style=\"color: #008000; text-decoration-color: #008000\">'gemma3:4b'</span>, <span style=\"color: #808000; text-decoration-color: #808000\">temperature</span>=<span style=\"color: #008080; text-decoration-color: #008080; font-weight: bold\">0.2</span><span style=\"font-weight: bold\">)</span>\n",
       "<span style=\"font-weight: bold\">)</span>\n",
       "</pre>\n"
      ],
      "text/plain": [
       "\u001b[1;35mRunnableSequence\u001b[0m\u001b[1m(\u001b[0m\n",
       "    \u001b[33mfirst\u001b[0m=\u001b[1;35mChatPromptTemplate\u001b[0m\u001b[1m(\u001b[0m\n",
       "        \u001b[33minput_variables\u001b[0m=\u001b[1m[\u001b[0m\u001b[32m'topic'\u001b[0m\u001b[1m]\u001b[0m,\n",
       "        \u001b[33minput_types\u001b[0m=\u001b[1m{\u001b[0m\u001b[1m}\u001b[0m,\n",
       "        \u001b[33mpartial_variables\u001b[0m=\u001b[1m{\u001b[0m\u001b[1m}\u001b[0m,\n",
       "        \u001b[33mmessages\u001b[0m=\u001b[1m[\u001b[0m\n",
       "            \u001b[1;35mHumanMessagePromptTemplate\u001b[0m\u001b[1m(\u001b[0m\n",
       "                \u001b[33mprompt\u001b[0m=\u001b[1;35mPromptTemplate\u001b[0m\u001b[1m(\u001b[0m\n",
       "                    \u001b[33minput_variables\u001b[0m=\u001b[1m[\u001b[0m\u001b[32m'topic'\u001b[0m\u001b[1m]\u001b[0m,\n",
       "                    \u001b[33minput_types\u001b[0m=\u001b[1m{\u001b[0m\u001b[1m}\u001b[0m,\n",
       "                    \u001b[33mpartial_variables\u001b[0m=\u001b[1m{\u001b[0m\u001b[1m}\u001b[0m,\n",
       "                    \u001b[33mtemplate\u001b[0m=\u001b[32m'\u001b[0m\u001b[32m{\u001b[0m\u001b[32mtopic\u001b[0m\u001b[32m}\u001b[0m\u001b[32m에 대해 알려줘'\u001b[0m\n",
       "                \u001b[1m)\u001b[0m,\n",
       "                \u001b[33madditional_kwargs\u001b[0m=\u001b[1m{\u001b[0m\u001b[1m}\u001b[0m\n",
       "            \u001b[1m)\u001b[0m\n",
       "        \u001b[1m]\u001b[0m\n",
       "    \u001b[1m)\u001b[0m,\n",
       "    \u001b[33mmiddle\u001b[0m=\u001b[1m[\u001b[0m\u001b[1m]\u001b[0m,\n",
       "    \u001b[33mlast\u001b[0m=\u001b[1;35mChatOllama\u001b[0m\u001b[1m(\u001b[0m\u001b[33mmodel\u001b[0m=\u001b[32m'gemma3:4b'\u001b[0m, \u001b[33mtemperature\u001b[0m=\u001b[1;36m0\u001b[0m\u001b[1;36m.2\u001b[0m\u001b[1m)\u001b[0m\n",
       "\u001b[1m)\u001b[0m\n"
      ]
     },
     "metadata": {},
     "output_type": "display_data"
    }
   ],
   "source": [
    "from rich import print as rp\n",
    "\n",
    "rp(chain)"
   ]
  },
  {
   "cell_type": "markdown",
   "metadata": {},
   "source": [
    "파서는 pydantic 과 함께 이용할 수 있습니다."
   ]
  },
  {
   "cell_type": "code",
   "execution_count": 26,
   "metadata": {},
   "outputs": [
    {
     "name": "stdout",
     "output_type": "stream",
     "text": [
      "parser: The output should be formatted as a JSON instance that conforms to the JSON schema below.\n",
      "\n",
      "As an example, for the schema {\"properties\": {\"foo\": {\"title\": \"Foo\", \"description\": \"a list of strings\", \"type\": \"array\", \"items\": {\"type\": \"string\"}}}, \"required\": [\"foo\"]}\n",
      "the object {\"foo\": [\"bar\", \"baz\"]} is a well-formatted instance of the schema. The object {\"properties\": {\"foo\": [\"bar\", \"baz\"]}} is not well-formatted.\n",
      "\n",
      "Here is the output schema:\n",
      "```\n",
      "{\"properties\": {\"name\": {\"description\": \"주식명\", \"title\": \"Name\", \"type\": \"string\"}, \"summary\": {\"description\": \"주식 요약(종목, 직전분기 매출)\", \"title\": \"Summary\", \"type\": \"string\"}, \"current_value\": {\"description\": \"현재 주가\", \"title\": \"Current Value\", \"type\": \"string\"}}, \"required\": [\"name\", \"summary\", \"current_value\"]}\n",
      "```\n"
     ]
    },
    {
     "data": {
      "text/plain": [
       "{'name': '삼성전자',\n",
       " 'summary': '삼성전자는 메모리 반도체 사업의 부진과 스마트폰 사업의 어려움으로 인해 최근 몇 분기 동안 실적 부진을 겪었습니다. 2023년 4분기 실적은 매출 64.8조 원, 영업이익 11.1조 원을 기록했지만, 메모리 반도체 가격 하락과 경쟁 심화로 인해 예상보다 낮은 실적을 발표했습니다. 특히, 2024년 전망 역시 불확실하며, 메모리 반도체 시장의 회복 시점과 새로운 성장 동력 확보에 대한 관심이 높습니다.',\n",
       " 'current_value': '260,000원 (2024년 5월 16일 기준)'}"
      ]
     },
     "execution_count": 26,
     "metadata": {},
     "output_type": "execute_result"
    }
   ],
   "source": [
    "from langchain_core.output_parsers import JsonOutputParser\n",
    "from pydantic import BaseModel, Field\n",
    "\n",
    "class StockInfo(BaseModel):\n",
    "    name: str = Field(description=\"주식명\")\n",
    "    summary: str = Field(description=\"주식 요약(종목, 직전분기 매출)\")\n",
    "    current_value: str = Field(description=\"현재 주가\")\n",
    "\n",
    "parser = JsonOutputParser(pydantic_object=StockInfo)\n",
    "print(f'parser: {parser.get_format_instructions()}')\n",
    "\n",
    "template = ChatPromptTemplate([\n",
    "    ('system','당신은 대한민국 주식 애널리스트입니다.'),\n",
    "    ('user','''{topic} 주가 전망에 대해 분석해줘. 답변은 한국어로 작성해. \n",
    "     {instruction}''')\n",
    "])\n",
    "\n",
    "# instruction 처럼 항상 입력값이 동일한 경우에는 invoke 에 파라미터로 넣는 대신 partial 을 통해 일부를 미리 넣을 수 있습니다.\n",
    "template = template.partial(instruction = parser.get_format_instructions())\n",
    "chain = template | llm | parser\n",
    "\n",
    "chain.invoke({ 'topic': '삼성전자' })"
   ]
  },
  {
   "cell_type": "markdown",
   "metadata": {},
   "source": [
    "### [예시] Simple deepresearch\n",
    "보고서 주제에 대해 섹션을 나누고 각 섹션별로 조사하는 기능을 만들어봅니다."
   ]
  },
  {
   "cell_type": "code",
   "execution_count": 27,
   "metadata": {},
   "outputs": [],
   "source": [
    "# GPT 모델 사용\n",
    "from langchain_openai import ChatOpenAI\n",
    "\n",
    "llm_gpt = ChatOpenAI(\n",
    "    model='gpt-4.1-mini',\n",
    "    temperature= 0.2,\n",
    "    max_tokens = 4096\n",
    ")"
   ]
  },
  {
   "cell_type": "code",
   "execution_count": null,
   "metadata": {},
   "outputs": [
    {
     "data": {
      "text/html": [
       "<pre style=\"white-space:pre;overflow-x:auto;line-height:normal;font-family:Menlo,'DejaVu Sans Mono',consolas,'Courier New',monospace\"><span style=\"color: #800080; text-decoration-color: #800080; font-weight: bold\">Report</span><span style=\"font-weight: bold\">(</span>\n",
       "    <span style=\"color: #808000; text-decoration-color: #808000\">topic</span>=<span style=\"color: #008000; text-decoration-color: #008000\">'삼성전자 주가 전망'</span>,\n",
       "    <span style=\"color: #808000; text-decoration-color: #808000\">sections</span>=<span style=\"font-weight: bold\">[</span>\n",
       "        <span style=\"color: #008000; text-decoration-color: #008000\">'삼성전자의 최근 주가 동향과 시장 반응을 분석하여 현재 위치를 파악한다.'</span>,\n",
       "        <span style=\"color: #008000; text-decoration-color: #008000\">'글로벌 경제 상황과 반도체 산업 동향이 삼성전자 주가에 미치는 영향을 평가한다.'</span>,\n",
       "        <span style=\"color: #008000; text-decoration-color: #008000\">'삼성전자의 재무 상태와 주요 사업 부문의 성장 가능성을 검토한다.'</span>,\n",
       "        <span style=\"color: #008000; text-decoration-color: #008000\">'경쟁사 및 기술 혁신 동향을 통해 삼성전자의 시장 경쟁력을 분석한다.'</span>,\n",
       "        <span style=\"color: #008000; text-decoration-color: #008000\">'향후 주가 전망과 투자 전략에 대한 전문가 의견과 리스크 요인을 종합한다.'</span>\n",
       "    <span style=\"font-weight: bold\">]</span>\n",
       "<span style=\"font-weight: bold\">)</span>\n",
       "</pre>\n"
      ],
      "text/plain": [
       "\u001b[1;35mReport\u001b[0m\u001b[1m(\u001b[0m\n",
       "    \u001b[33mtopic\u001b[0m=\u001b[32m'삼성전자 주가 전망'\u001b[0m,\n",
       "    \u001b[33msections\u001b[0m=\u001b[1m[\u001b[0m\n",
       "        \u001b[32m'삼성전자의 최근 주가 동향과 시장 반응을 분석하여 현재 위치를 파악한다.'\u001b[0m,\n",
       "        \u001b[32m'글로벌 경제 상황과 반도체 산업 동향이 삼성전자 주가에 미치는 영향을 평가한다.'\u001b[0m,\n",
       "        \u001b[32m'삼성전자의 재무 상태와 주요 사업 부문의 성장 가능성을 검토한다.'\u001b[0m,\n",
       "        \u001b[32m'경쟁사 및 기술 혁신 동향을 통해 삼성전자의 시장 경쟁력을 분석한다.'\u001b[0m,\n",
       "        \u001b[32m'향후 주가 전망과 투자 전략에 대한 전문가 의견과 리스크 요인을 종합한다.'\u001b[0m\n",
       "    \u001b[1m]\u001b[0m\n",
       "\u001b[1m)\u001b[0m\n"
      ]
     },
     "metadata": {},
     "output_type": "display_data"
    }
   ],
   "source": [
    "class Report(BaseModel):\n",
    "    topic: str = Field(description=\"보고서 주제\")\n",
    "    sections: list[str] = Field(description=\"주제에 대한 세부 섹션 개요 목록 (최대 5개 섹션)\")\n",
    "\n",
    "system_template = \"\"\"\n",
    "당신은 보고서 개요 전문가입니다. 주어진 주제에 대해 보고서 개요를 생성하세요.\n",
    "각 섹션 내용은 서로 겹치지 않아야 하며,\n",
    "개요만 보고 내용을 충분히 이해할 수준의 상세한 내용으로 구성되어야 합니다.\n",
    "각 섹션별 개요의 내용은 150자 정도로 구성하세요.\n",
    "{instruction}\n",
    "\"\"\"\n",
    "section_template = ChatPromptTemplate(\n",
    "    [\n",
    "        ('system', system_template),\n",
    "        ('human','질문: {question}')\n",
    "    ]\n",
    ")\n",
    "parser = PydanticOutputParser(pydantic_object=Report)\n",
    "\n",
    "section_template = section_template.partial(instruction = parser.get_format_instructions())\n",
    "outliner = section_template | llm_gpt.with_structured_output(Report)\n",
    "response = outliner.invoke(\"삼성전자 주가 전망\")\n",
    "\n",
    "rp(response)"
   ]
  },
  {
   "cell_type": "code",
   "execution_count": 34,
   "metadata": {},
   "outputs": [
    {
     "name": "stdout",
     "output_type": "stream",
     "text": [
      "# 삼성전자의 최근 주가 동향과 시장 반응 분석\n",
      "\n",
      "## 최근 주가 동향\n",
      "\n",
      "삼성전자의 주가는 최근 몇 달간 변동성을 보였습니다. 특히, 외국인 투자자들의 대규모 매도가 주가에 영향을 미쳤습니다. 2023년 1월 12일 이후 처음으로 외국인 보유 비율이 50% 미만으로 하락했으며, 이는 지난 6개월 동안 약 22조 8,806억 원어치의 주식이 매도된 결과입니다. ([modusara.com](https://modusara.com/%EC%82%BC%EC%84%B1%EC%A0%84%EC%9E%90-7%EA%B0%80%EC%A7%80-%EB%B3%80%ED%99%94%EC%99%80-%EC%99%B8%EA%B5%AD%EC%9D%B8-%ED%88%AC%EC%9E%90-%EB%8F%99%ED%96%A5-%EB%B6%84%EC%84%9D-22%EC%A1%B0/?utm_source=openai))\n",
      "\n",
      "## 시장 반응\n",
      "\n",
      "이러한 외국인 매도세는 반도체 수요 감소와 실적 부진 등 여러 요인에 기인합니다. 특히, 중국 AI 스타트업 딥시크의 부상은 삼성전자의 반도체 사업에 대한 우려를 증폭시켰습니다. 딥시크의 기술력 향상은 글로벌 반도체 시장의 경쟁을 심화시키고 있으며, 이는 삼성전자의 시장 점유율과 수익성에 부정적인 영향을 미칠 수 있습니다. ([modusara.com](https://modusara.com/%EC%82%BC%EC%84%B1%EC%A0%84%EC%9E%90-7%EA%B0%80%EC%A7%80-%EB%B3%80%ED%99%94%EC%99%80-%EC%99%B8%EA%B5%AD%EC%9D%B8-%ED%88%AC%EC%9E%90-%EB%8F%99%ED%96%A5-%EB%B6%84%EC%84%9D-22%EC%A1%B0/?utm_source=openai))\n",
      "\n",
      "## 현재 위치 파악\n",
      "\n",
      "현재 삼성전자는 외국인 투자자들의 매도세와 글로벌 반도체 시장의 경쟁 심화로 인해 주가 하락 압력을 받고 있습니다. 그러나 이러한 상황에서도 삼성전자는 기술 경쟁력 회복과 투자 전략을 통해 시장에서의 입지를 강화하려는 노력을 지속하고 있습니다. 향후 반도체 수요 회복과 기술 혁신을 통한 경쟁력 강화가 주가 회복의 핵심 요인이 될 것으로 예상됩니다. \n",
      "\n",
      "# 글로벌 경제 상황과 반도체 산업 동향이 삼성전자 주가에 미치는 영향 평가\n",
      "\n",
      "## 글로벌 경제 상황의 영향\n",
      "\n",
      "### 금리 인상과 경제 성장 둔화\n",
      "\n",
      "최근 주요국 중앙은행들의 금리 인상은 글로벌 경제 성장 둔화로 이어지고 있습니다. 이는 기업들의 투자 비용 증가와 소비 심리 위축을 초래하여, 특히 기술 기업들의 수익성에 부정적인 영향을 미치고 있습니다. 삼성전자 역시 이러한 글로벌 경제 둔화의 영향을 받아 주가 변동성을 경험하고 있습니다.\n",
      "\n",
      "### 미·중 무역 갈등\n",
      "\n",
      "미국과 중국 간의 무역 갈등은 글로벌 공급망에 혼란을 초래하며, 삼성전자의 주요 시장인 양국에서의 판매와 수익성에 부정적인 영향을 미치고 있습니다. 이러한 무역 분쟁은 반도체 수요 감소와 공급망 불안정을 야기하여 삼성전자 주가에 하락 압력을 가하고 있습니다.\n",
      "\n",
      "## 반도체 산업 동향의 영향\n",
      "\n",
      "### 메모리 반도체 시장 회복\n",
      "\n",
      "2024년 하반기부터 메모리 반도체 시장의 회복이 예상되며, 이는 삼성전자의 D램과 낸드플래시 가격 상승으로 이어져 수익성 개선에 기여할 전망입니다. 특히 AI 반도체와 고대역폭 메모리(HBM) 시장에서의 경쟁력 강화는 긍정적인 요인으로 작용할 것입니다.\n",
      "\n",
      "### AI 및 데이터센터 시장 성장\n",
      "\n",
      "인공지능(AI)과 데이터센터 시장의 성장은 고성능 메모리 수요 증가로 이어지며, 이는 삼성전자의 반도체 부문에 긍정적인 영향을 미칠 것으로 예상됩니다. 특히 AI 기술 발전으로 인해 고성능 반도체에 대한 수요가 증가하고 있어 삼성전자의 미래 성장성이 주목받고 있습니다.\n",
      "\n",
      "## 결론\n",
      "\n",
      "글로벌 경제 상황과 반도체 산업 동향은 삼성전자 주가에 복합적인 영향을 미치고 있습니다. 금리 인상과 미·중 무역 갈등 등 글로벌 경제 불확실성은 주가에 부정적인 요인으로 작용하고 있으나, 반도체 시장 회복과 AI 및 데이터센터 시장 성장 등 산업 동향은 긍정적인 영향을 미칠 것으로 예상됩니다. 따라서 투자자들은 이러한 요인들을 종합적으로 고려하여 신중한 투자 결정을 내리는 것이 중요합니다. \n",
      "\n",
      "# 삼성전자의 재무 상태와 주요 사업 부문의 성장 가능성\n",
      "\n",
      "## 재무 상태 분석\n",
      "\n",
      "삼성전자는 2024년 연간 매출액 300조 8,709억 원, 영업이익 32조 7,259억 원을 기록하며 전년 대비 각각 16.2%와 398.3%의 성장을 달성했습니다. ([insight.knowhowlab.net](https://insight.knowhowlab.net/about/?utm_source=openai)) 이러한 실적 개선은 반도체 및 디스플레이 부문의 회복과 스마트폰, 가전 부문의 안정적인 성장이 주된 요인으로 작용했습니다.\n",
      "\n",
      "또한, 삼성전자는 2024년 1분기 총매출 71조 9,156억 원, 영업이익 6조 6,063억 원을 기록하며 전년 동기 대비 각각 12.83%와 931.87%의 성장을 보였습니다. ([streetknowledge.tistory.com](https://streetknowledge.tistory.com/entry/%EC%82%BC%EC%84%B1%EC%A0%84%EC%9E%90-%EC%A3%BC%EA%B0%80-%EC%A0%84%EB%A7%9D-%EB%B0%98%EB%8F%84%EC%B2%B4-HBM-%EA%B4%80%EB%A0%A8%EC%A3%BC?utm_source=openai)) 특히, 메모리 반도체 부문의 수익성 회복이 전체 실적 개선에 크게 기여했습니다.\n",
      "\n",
      "## 주요 사업 부문의 성장 가능성\n",
      "\n",
      "### 반도체 부문\n",
      "\n",
      "삼성전자는 메모리 반도체 시장에서 세계 1위를 유지하고 있으며, HBM(High Bandwidth Memory)과 DDR5 등 고부가가치 제품의 생산을 확대하고 있습니다. ([todghkfwjdqhj.tistory.com](https://todghkfwjdqhj.tistory.com/772?utm_source=openai)) 또한, 파운드리 사업에서는 3nm 및 2nm 공정 개발을 진행하며 AI 및 고성능 컴퓨팅(HPC)용 반도체 매출 확대를 목표로 하고 있습니다. ([contents.premium.naver.com](https://contents.premium.naver.com/amolanc/principle/contents/250312165313157ha?utm_source=openai))\n",
      "\n",
      "### 스마트폰 및 웨어러블 부문\n",
      "\n",
      "갤럭시 S25 시리즈 출시를 통해 새로운 AI 경험을 제공하며 제품 경쟁력을 강화하고 있습니다. 또한, 폴더블폰 시장 확장을 위해 신규 폼팩터를 도입하고 수요 창출에 주력하고 있습니다. ([contents.premium.naver.com](https://contents.premium.naver.com/amolanc/principle/contents/250312165313157ha?utm_source=openai))\n",
      "\n",
      "### 전장 부문\n",
      "\n",
      "Harman을 통해 디지털 콕핏 및 차량용 오디오 시장을 확대하고 있으며, 5G 기반 차량 통신 솔루션(텔레매틱스) 수주를 늘리고 주요 완성차 업체와의 협력을 강화하고 있습니다. ([contents.premium.naver.com](https://contents.premium.naver.com/amolanc/principle/contents/250312165313157ha?utm_source=openai))\n",
      "\n",
      "### 디스플레이 부문\n",
      "\n",
      "스마트폰 OLED 패널 시장에서 리더십을 유지하며, IT 및 자동차 디스플레이 시장을 확대하고 있습니다. 또한, QD-OLED TV 및 게이밍 모니터 시장을 확장하여 프리미엄 TV 패널 입지를 강화하고 있습니다. ([contents.premium.naver.com](https://contents.premium.naver.com/amolanc/principle/contents/250312165313157ha?utm_source=openai))\n",
      "\n",
      "### 가전 부문\n",
      "\n",
      "Vision AI 기술을 적용한 TV 신제품을 출시하여 AI 스크린 시장을 선도하고 있으며, 프리미엄 가전(BESPOKE AI) 및 시스템 에어컨 판매를 확대하고 있습니다. ([contents.premium.naver.com](https://contents.premium.naver.com/amolanc/principle/contents/250312165313157ha?utm_source=openai))\n",
      "\n",
      "## 결론\n",
      "\n",
      "삼성전자는 견고한 재무 성과와 혁신적인 기술 투자, 그리고 글로벌 시장 확장 전략을 통해 전자산업의 선도 기업으로 자리매김하고 있습니다. 단기적 변동성에도 불구하고, 중장기적으로 AI, 6G, 반도체 등 미래 성장 동력을 바탕으로 안정적 성장이 기대됩니다. ([brunch.co.kr](https://brunch.co.kr/%403c5bd37e1a02479/81?utm_source=openai)) \n",
      "\n",
      "# 경쟁사 및 기술 혁신 동향을 통한 삼성전자의 시장 경쟁력 분석\n",
      "\n",
      "## 경쟁사 동향\n",
      "\n",
      "### 애플(Apple)\n",
      "\n",
      "애플은 스마트폰, 태블릿, 웨어러블 기기 등 다양한 제품군에서 삼성전자의 주요 경쟁사로 자리매김하고 있습니다. 특히, 아이폰 시리즈는 프리미엄 스마트폰 시장에서 강력한 입지를 유지하고 있으며, 자체 개발한 A시리즈 칩셋을 통해 성능과 에너지 효율성을 지속적으로 향상시키고 있습니다. 또한, 애플은 하드웨어와 소프트웨어의 긴밀한 통합을 통해 사용자 경험을 극대화하고 있습니다.\n",
      "\n",
      "### 화웨이(Huawei)\n",
      "\n",
      "화웨이는 통신 장비와 스마트폰 분야에서 두각을 나타내며, 특히 5G 기술 개발에 집중하고 있습니다. 자체 개발한 기린(Kirin) 칩셋과 하모니OS(HarmonyOS)를 통해 독자적인 생태계를 구축하려는 노력을 기울이고 있습니다. 그러나 미국의 제재로 인해 글로벌 시장에서의 입지가 다소 약화되었지만, 중국 내수 시장에서는 여전히 강력한 영향력을 발휘하고 있습니다.\n",
      "\n",
      "### 샤오미(Xiaomi)\n",
      "\n",
      "샤오미는 가성비 높은 스마트폰과 다양한 IoT 제품을 통해 빠르게 성장하고 있는 기업입니다. 특히, 미(Mi) 시리즈와 홍미(Redmi) 시리즈는 중저가 시장에서 큰 인기를 얻고 있으며, 자체 개발한 MIUI를 통해 사용자 경험을 향상시키고 있습니다. 또한, 스마트홈 기기와 웨어러블 시장에서도 적극적인 행보를 보이고 있습니다.\n",
      "\n",
      "## 기술 혁신 동향\n",
      "\n",
      "### 반도체 기술\n",
      "\n",
      "반도체 산업에서는 미세 공정 기술의 발전이 주요한 화두입니다. 현재 5나노미터(nm) 공정이 상용화되었으며, 3nm 공정 개발이 진행 중입니다. 이러한 미세 공정 기술의 발전은 칩의 성능 향상과 전력 효율 개선에 기여하고 있습니다. 삼성전자와 TSMC는 이러한 미세 공정 기술 개발에서 선두를 달리고 있으며, 향후 시장 주도권을 놓고 치열한 경쟁을 벌이고 있습니다.\n",
      "\n",
      "### 디스플레이 기술\n",
      "\n",
      "디스플레이 분야에서는 OLED(유기발광다이오드) 기술이 주류로 자리잡고 있으며, 폴더블(Foldable) 디스플레이와 롤러블(Rollable) 디스플레이와 같은 혁신적인 제품들이 출시되고 있습니다. 삼성전자는 갤럭시 Z 시리즈를 통해 폴더블 스마트폰 시장을 선도하고 있으며, LG디스플레이와 BOE 등도 관련 기술 개발에 박차를 가하고 있습니다.\n",
      "\n",
      "### 인공지능(AI) 및 사물인터넷(IoT)\n",
      "\n",
      "인공지능과 사물인터넷 기술의 발전은 스마트홈, 자율주행차, 헬스케어 등 다양한 분야에서 혁신을 이끌고 있습니다. 삼성전자는 빅스비(Bixby)와 스마트싱스(SmartThings) 플랫폼을 통해 AI와 IoT 기술을 자사 제품에 통합하고 있으며, 구글, 아마존 등과의 협업을 통해 생태계를 확장하고 있습니다.\n",
      "\n",
      "## 삼성전자의 시장 경쟁력 분석\n",
      "\n",
      "삼성전자는 반도체, 디스플레이, 스마트폰 등 다양한 분야에서 경쟁사들과 치열한 경쟁을 벌이고 있습니다. 특히, 반도체 분야에서는 미세 공정 기술 개발을 통해 TSMC와의 격차를 줄이려는 노력을 기울이고 있으며, 디스플레이 분야에서는 폴더블 디스플레이 기술을 선도하고 있습니다. 또한, AI와 IoT 기술을 자사 제품에 적극적으로 통합하여 스마트홈 시장에서도 경쟁력을 강화하고 있습니다.\n",
      "\n",
      "그러나 애플, 화웨이, 샤오미 등 경쟁사들의 기술 혁신과 시장 확대 전략에 대응하기 위해서는 지속적인 연구개발 투자와 혁신적인 제품 출시가 필요합니다. 특히, 소프트웨어와 하드웨어의 통합을 통한 사용자 경험 향상, 생태계 구축, 그리고 새로운 시장 개척 등이 삼성전자의 장기적인 경쟁력 확보에 중요한 요소로 작용할 것입니다. \n",
      "\n",
      "# 향후 주가 전망과 투자 전략에 대한 전문가 의견과 리스크 요인\n",
      "\n",
      "## 향후 주가 전망\n",
      "\n",
      "삼성전자는 반도체, 스마트폰, 가전 등 다양한 분야에서 글로벌 리더로 자리매김하고 있습니다. 특히 반도체 부문에서의 기술 우위와 시장 지배력은 주가 상승의 주요 동력으로 작용하고 있습니다. 최근 발표된 2025년 2분기 실적에 따르면, 반도체 부문의 매출이 전년 대비 15% 증가하여 20조 원을 기록하였습니다. 이는 글로벌 반도체 수요 증가와 삼성전자의 기술 혁신에 따른 결과로 분석됩니다.\n",
      "\n",
      "또한, 스마트폰 부문에서는 갤럭시 S 시리즈의 신제품이 출시되어 시장에서 긍정적인 반응을 얻고 있습니다. 특히, 갤럭시 S25 모델은 혁신적인 카메라 기술과 배터리 효율성으로 소비자들의 관심을 끌고 있습니다. 이러한 제품 경쟁력은 향후 매출 성장에 기여할 것으로 예상됩니다.\n",
      "\n",
      "## 투자 전략에 대한 전문가 의견\n",
      "\n",
      "금융 전문가들은 삼성전자의 다각화된 사업 포트폴리오와 지속적인 연구개발 투자를 긍정적으로 평가하고 있습니다. 특히, 반도체 부문의 지속적인 성장과 스마트폰 시장에서의 경쟁력 유지는 장기적인 투자 관점에서 매력적인 요소로 작용합니다.\n",
      "\n",
      "그러나, 글로벌 경제 불확실성과 반도체 시장의 변동성은 투자 시 고려해야 할 요소입니다. 따라서, 전문가들은 분산 투자와 장기적인 관점에서의 접근을 권장하고 있습니다. 또한, 삼성전자의 ESG(환경, 사회, 지배구조) 경영 강화는 투자자들에게 긍정적인 신호로 작용할 것으로 보입니다.\n",
      "\n",
      "## 리스크 요인\n",
      "\n",
      "첫째, 글로벌 반도체 시장의 공급 과잉이나 수요 감소는 삼성전자의 매출에 부정적인 영향을 미칠 수 있습니다. 특히, 중국과 미국 간의 무역 분쟁은 반도체 수출에 영향을 줄 수 있는 주요 리스크 요인입니다.\n",
      "\n",
      "둘째, 스마트폰 시장에서의 경쟁 심화로 인한 마진 압박도 고려해야 합니다. 애플, 화웨이 등 경쟁사들의 신제품 출시와 가격 경쟁은 삼성전자의 수익성에 영향을 줄 수 있습니다.\n",
      "\n",
      "셋째, 환율 변동성도 중요한 리스크 요인입니다. 원화 강세는 수출 기업인 삼성전자의 수익성에 부정적인 영향을 미칠 수 있으므로, 환율 동향을 주시할 필요가 있습니다.\n",
      "\n",
      "마지막으로, 기술 혁신의 속도가 빨라짐에 따라 연구개발 투자에 대한 부담이 증가하고 있습니다. 신기술 개발 실패나 시장의 빠른 변화에 대응하지 못할 경우, 경쟁력 약화로 이어질 수 있습니다.\n",
      "\n",
      "종합적으로, 삼성전자는 다양한 사업 부문에서의 경쟁력과 지속적인 혁신을 통해 긍정적인 주가 전망을 보이고 있으나, 글로벌 경제 상황과 시장 변동성 등 리스크 요인을 면밀히 분석하여 신중한 투자 전략을 수립하는 것이 중요합니다. \n"
     ]
    }
   ],
   "source": [
    "from langchain_core.output_parsers import StrOutputParser\n",
    "\n",
    "# 섹션별 글쓰기 프롬프트\n",
    "detail_template = ChatPromptTemplate(\n",
    "    [\n",
    "        ('system','''다음 보고서의 해당 섹션에 대해, 상세한 내용을 작성하세요.\n",
    "실제 논문과 기술을 언급하며, 신뢰성 있는 보고서를 작성하세요.\n",
    "섹션의 내용은 2000자 미만으로 작성하세요.\n",
    "\n",
    "출력은 마크다운으로 하고, 제목은 #, 소목차는 ##으로 구성하세요.\n",
    "그 이하의 목차는 만들지 마세요.\n",
    "\n",
    "'''),\n",
    "        ('human','''\n",
    "보고서의 주제: {topic},\n",
    "섹션 내용: {section}\n",
    "''')\n",
    "    ]\n",
    ").partial(topic = response.topic)\n",
    "\n",
    "search_llm = ChatOpenAI(model='gpt-4o-search-preview', max_tokens=8192)\n",
    "report_writer = detail_template | search_llm | StrOutputParser()\n",
    "drafts = report_writer.batch(response.sections)\n",
    "result = '\\n\\n'.join(drafts)\n",
    "\n",
    "print(result)"
   ]
  },
  {
   "cell_type": "markdown",
   "metadata": {},
   "source": [
    "### [심화] 체인 연결\n",
    "\n",
    "각 체인을 연결하여 사용해봅니다."
   ]
  },
  {
   "cell_type": "code",
   "execution_count": 48,
   "metadata": {},
   "outputs": [
    {
     "data": {
      "text/plain": [
       "'팀 티보  \\n데스틴 데이비스  \\n마샤 메이즈'"
      ]
     },
     "execution_count": 48,
     "metadata": {},
     "output_type": "execute_result"
    }
   ],
   "source": [
    "prompt1 = ChatPromptTemplate([\"잭슨빌은 어느 나라의 도시입니까?\"])\n",
    "prompt2 = ChatPromptTemplate(\n",
    "    [\"{country}의 대표적인 인물 3명을 나열하세요. 인물의 이름만 출력하세요.\"]\n",
    ")\n",
    "\n",
    "chain1 = prompt1 | llm_gpt | StrOutputParser()\n",
    "chain2 =(\n",
    "    {\"country\": chain1} | prompt2 | llm_gpt | StrOutputParser()\n",
    ")\n",
    "chain2.invoke({})"
   ]
  },
  {
   "cell_type": "markdown",
   "metadata": {},
   "source": [
    "후속 체인에 이전 체인의 출력뿐 아니라 유저의 입력도 필요하다면 아래와 같이 Lambda 를 통해 입력 Dict 로부터 값을 선택하여 사용해야 합니다."
   ]
  },
  {
   "cell_type": "code",
   "execution_count": null,
   "metadata": {},
   "outputs": [
    {
     "name": "stdout",
     "output_type": "stream",
     "text": [
      "*   에이브러햄 링컨\n",
      "*   스티브 잡스\n",
      "*   마릴린 먼로\n"
     ]
    }
   ],
   "source": [
    "from langchain_core.runnables import RunnableParallel\n",
    "\n",
    "prompt1 = ChatPromptTemplate([\"{city}는 어느 나라의 도시인가요? 나라 이름만 출력하세요.\"])\n",
    "prompt2 = ChatPromptTemplate([\"{country}의 유명한 인물은 누가 있나요? {num} 명의 이름을 나열하세요. 사람 이름만 ,로 구분하여 나열하세요.\"])\n",
    "\n",
    "chain1 = prompt1 | llm | StrOutputParser()\n",
    "\n",
    "chain2 = (\n",
    "    # lambda x:f(x) --> x가 주어지면 f(x)를 return\n",
    "    RunnableParallel(country = chain1, num = lambda x:x['num'])\n",
    "    | prompt2\n",
    "    | llm\n",
    "    | StrOutputParser()\n",
    ")\n",
    "\n",
    "print(chain2.invoke({\"city\": \"잭슨빌\", \"num\": \"3\"}))"
   ]
  },
  {
   "cell_type": "markdown",
   "metadata": {},
   "source": [
    "디버깅하고 싶다면 체인을 분리합니다."
   ]
  },
  {
   "cell_type": "code",
   "execution_count": 54,
   "metadata": {},
   "outputs": [
    {
     "data": {
      "text/plain": [
       "{'country': '아르헨티나',\n",
       " 'num': '3',\n",
       " 'result': '*   리오넬 메시\\n*   에르네스토 체 게바라\\n*   마르틴 가르시아 롭레테'}"
      ]
     },
     "execution_count": 54,
     "metadata": {},
     "output_type": "execute_result"
    }
   ],
   "source": [
    "chain1 = prompt1 | llm | StrOutputParser()\n",
    "chain2 = prompt2 | llm | StrOutputParser()\n",
    "\n",
    "# assign의 역할: 직전 체인의 결과가 **Dict인 경우에만** 뒷 체인에 연결 가능\n",
    "chain3 = RunnableParallel(country = chain1, num = lambda x: x['num']).assign(result = chain2)\n",
    "chain3.invoke({\"city\": \"부에노스 아이레스\", \"num\": \"3\"})"
   ]
  },
  {
   "cell_type": "markdown",
   "metadata": {},
   "source": []
  }
 ],
 "metadata": {
  "kernelspec": {
   "display_name": "base",
   "language": "python",
   "name": "python3"
  },
  "language_info": {
   "codemirror_mode": {
    "name": "ipython",
    "version": 3
   },
   "file_extension": ".py",
   "mimetype": "text/x-python",
   "name": "python",
   "nbconvert_exporter": "python",
   "pygments_lexer": "ipython3",
   "version": "3.12.9"
  }
 },
 "nbformat": 4,
 "nbformat_minor": 2
}
