{
 "cells": [
  {
   "cell_type": "markdown",
   "metadata": {},
   "source": [
    "### openai api 호출 샘플\n"
   ]
  },
  {
   "cell_type": "code",
   "execution_count": 67,
   "metadata": {},
   "outputs": [],
   "source": [
    "!pip install openai tiktoken dotenv tavily-python -q"
   ]
  },
  {
   "cell_type": "code",
   "execution_count": 68,
   "metadata": {},
   "outputs": [
    {
     "data": {
      "text/plain": [
       "True"
      ]
     },
     "execution_count": 68,
     "metadata": {},
     "output_type": "execute_result"
    }
   ],
   "source": [
    "from dotenv import load_dotenv\n",
    "\n",
    "#.env 파일에서 환경 변수 설정 로드\n",
    "load_dotenv(override=True)"
   ]
  },
  {
   "cell_type": "code",
   "execution_count": 69,
   "metadata": {},
   "outputs": [
    {
     "name": "stdout",
     "output_type": "stream",
     "text": [
      "OPENAI_API_KEY가 정상적으로 설정되어 있습니다.\n"
     ]
    }
   ],
   "source": [
    "import openai\n",
    "import os\n",
    "\n",
    "client = openai.OpenAI()\n",
    "\n",
    "# API 키 검증하기\n",
    "try: client.models.list(); print(\"OPENAI_API_KEY가 정상적으로 설정되어 있습니다.\")\n",
    "except:  print(f\"API 키가 유효하지 않습니다!\")"
   ]
  },
  {
   "cell_type": "code",
   "execution_count": 70,
   "metadata": {},
   "outputs": [
    {
     "data": {
      "text/plain": [
       "'안녕하세요! 어떻게 도와드릴까요?'"
      ]
     },
     "execution_count": 70,
     "metadata": {},
     "output_type": "execute_result"
    }
   ],
   "source": [
    "# 호출 테스트\n",
    "def chat(msg, model = 'gpt-4.1-mini'):\n",
    "    messages = [{'role':'user','content':msg}]\n",
    "\n",
    "    response = client.chat.completions.create(\n",
    "        model = model,\n",
    "        messages = messages,\n",
    "        temperature = 0.2,\n",
    "        max_tokens = 4096\n",
    "    )\n",
    "    return response.choices[0].message.content\n",
    "\n",
    "chat(\"안녕?\")"
   ]
  },
  {
   "cell_type": "markdown",
   "metadata": {},
   "source": [
    "### Tool Calling 동작 과정\n",
    "Tool calling 은 LLM이 혼자 답변을 생성하는 대신 외부에 있는 검색엔진, 계산기, 데이터베이스, 번역기 같은 툴을 호출해서 더 정확하거나 실시간 정보를 포함한 답변을 생성하게 합니다.\n",
    "\n",
    "![img_1.png](../docs/images/toolcalling.png)\n",
    "\n",
    "llm 에게 전달한 tool 스펙은 기본적으로 아래와 같습니다.\n",
    "```python\n",
    "tools=[\n",
    "    {\n",
    "        \"type\": \"function\",\n",
    "        \"function\": {\n",
    "            \"name\": \"GetNewsByGoogle\",\n",
    "            \"parameters\": {\n",
    "                \"type\": \"object\",\n",
    "                \"properties\": {\"query\": {\"type\": \"string\"}},\n",
    "                \"required\": [\"query\"]\n",
    "            }\n",
    "        }\n",
    "    }\n",
    "]\n",
    "```\n",
    "\n",
    "pydantic 을 이용하면 조금 더 쉽게 툴을 정의할 수 있습니다."
   ]
  },
  {
   "cell_type": "code",
   "execution_count": 71,
   "metadata": {},
   "outputs": [],
   "source": [
    "# 툴 정의\n",
    "from openai import pydantic_function_tool\n",
    "from pydantic import BaseModel, Field\n",
    "\n",
    "class SearchOnNaver(BaseModel):\n",
    "    \"\"\"네이버 검색 엔진을 이용해 일반 텍스트 웹 검색을 수행합니다.\"\"\"\n",
    "    query: str= Field(description=\"\"\"검색 키워드\n",
    "규칙:\n",
    "1. 최대 2개 단어로 구성\n",
    "2. 불필요한 조사나 형용사 제외\n",
    "3. 핵심 명사만 포함\n",
    "\n",
    "예시:\n",
    "- (좋음) \"개봉영화\", \"영화\"\n",
    "- (나쁨) \"새로 개봉한 영화\", \"요즘 인기있는 영화\"\n",
    "\"\"\")\n",
    "\n",
    "class SearchOnGoogle(BaseModel):\n",
    "    \"\"\"구글 검색 엔진을 이용해 일반 텍스트 웹 검색을 수행합니다.\"\"\"\n",
    "    query: str = Field(description=\"\"\"검색 키워드\n",
    "규칙:\n",
    "1. 최대 2개 단어로 구성\n",
    "2. 불필요한 조사나 형용사 제외\n",
    "3. 핵심 명사만 포함\n",
    "\n",
    "예시:\n",
    "- (좋음) \"개봉영화\", \"영화\"\n",
    "- (나쁨) \"새로 개봉한 영화\", \"요즘 인기있는 영화\"\"\")\n",
    "\n",
    "tools = [pydantic_function_tool(SearchOnNaver), pydantic_function_tool(SearchOnGoogle)]\n",
    "\n",
    "def search_on_naver(query: str):\n",
    "    print(f\"start search_on_naver. query: {query}\")\n",
    "\n",
    "    if \"영화\" in query:\n",
    "        return \"네이버, 미션 임파서블: 파이널 레코닝, 플로리다 프로젝트(재개봉), 걸어도 걸어도(재개봉), 씨너스(죄인들)\"\n",
    "    \n",
    "    return f\"{query}에 대해 검색된 내용이 없습니다.\"\n",
    "\n",
    "def search_on_google(query):\n",
    "    print(f\"start search_on_google. query: {query}\")\n",
    "\n",
    "    if \"영화\" in query:\n",
    "        return \"구글, 미션 임파서블: 파이널 레코닝, 플로리다 프로젝트(재개봉), 걸어도 걸어도(재개봉), 씨너스(죄인들)\"\n",
    "    \n",
    "    return f\"{query}에 대해 검색된 내용이 없습니다.\""
   ]
  },
  {
   "cell_type": "code",
   "execution_count": 72,
   "metadata": {},
   "outputs": [],
   "source": [
    "def chat(messages, stream=False, parallel_tool_calls = True, model = 'gpt-4.1-mini'):\n",
    "    response = client.chat.completions.create(\n",
    "        model = model,\n",
    "        messages = messages,\n",
    "\n",
    "        # 사용할 툴 목록 전달\n",
    "        tools = tools,\n",
    "        # 'auto' : 자율적 툴 판단\n",
    "        # 'none'이면 툴 사용하지 않음\n",
    "        # 'required'면 무조건 툴 사용\n",
    "        tool_choice = 'auto',\n",
    "\n",
    "        temperature= 0.1,\n",
    "        max_tokens= 1024,\n",
    "        # 기본값은 False--> 일반 출력\n",
    "        # stream==True면 스트리밍 출력\n",
    "        stream = stream,\n",
    "        parallel_tool_calls = parallel_tool_calls,\n",
    "    )\n",
    "\n",
    "    # Streaming 여부에 따라 출력 다르게 하기\n",
    "    if stream: return response\n",
    "\n",
    "    return response.choices[0].message"
   ]
  },
  {
   "cell_type": "code",
   "execution_count": 73,
   "metadata": {},
   "outputs": [
    {
     "data": {
      "text/plain": [
       "ChatCompletionMessage(content='안녕하세요! 오늘 날씨가 좋다니 기분이 참 좋겠어요. 혹시 오늘 날씨에 맞춰 계획하신 일이 있으신가요?', refusal=None, role='assistant', annotations=[], audio=None, function_call=None, tool_calls=None)"
      ]
     },
     "execution_count": 73,
     "metadata": {},
     "output_type": "execute_result"
    }
   ],
   "source": [
    "# tool 을 사용하지 않음\n",
    "result = chat([\n",
    "    {\n",
    "        \"role\": \"user\",\n",
    "        \"content\": \"\"\"안녕하세요! 오늘 날씨가 좋네요.\"\"\"\n",
    "    }\n",
    "])\n",
    "assert result.tool_calls == None, \"툴을 사용하였습니다.\"\n",
    "result"
   ]
  },
  {
   "cell_type": "code",
   "execution_count": 75,
   "metadata": {},
   "outputs": [
    {
     "name": "stdout",
     "output_type": "stream",
     "text": [
      "ChatCompletionMessage(content=None, refusal=None, role='assistant', annotations=[], audio=None, function_call=None, tool_calls=[ChatCompletionMessageToolCall(id='call_UjKqrE1L3sliXCIgs3FjuPyH', function=Function(arguments='{\"query\":\"개봉영화\"}', name='SearchOnNaver'), type='function')])\n"
     ]
    },
    {
     "data": {
      "text/plain": [
       "('call_UjKqrE1L3sliXCIgs3FjuPyH', 'SearchOnNaver', '{\"query\":\"개봉영화\"}')"
      ]
     },
     "execution_count": 75,
     "metadata": {},
     "output_type": "execute_result"
    }
   ],
   "source": [
    "# tool 을 사용함\n",
    "message = {\n",
    "        \"role\": \"user\",\n",
    "        \"content\": \"\"\"\n",
    "요즘 새로 개봉한 영화는 무엇이 있나요? 네이버 검색으로 알려주세요.\n",
    "\"\"\"\n",
    "    }\n",
    "tool_call_result = chat([\n",
    "    message,\n",
    "])\n",
    "\n",
    "print(tool_call_result)\n",
    "assert len(tool_call_result.tool_calls) == 1 and tool_call_result.tool_calls[0].function.name == \"SearchOnNaver\", f\"툴을 사용하지 않았거나 이상한 툴을 이용함. tool_call_result: {tool_call_result}\"\n",
    "(tool_call_result.tool_calls[0].id,\n",
    "tool_call_result.tool_calls[0].function.name,\n",
    "tool_call_result.tool_calls[0].function.arguments)"
   ]
  },
  {
   "cell_type": "markdown",
   "metadata": {},
   "source": [
    "<br />\n",
    "<br />\n",
    "\n",
    "LLM 에게 툴 실행 결과를 전달할 때 반드시 [user query, llm tool response, tool response] 형태로 전달합니다.\n",
    "\n",
    "메세지 목록 내에 tool_call_result 가 있을 때, 각 tool_call_id 마다 툴 실행 결과를 반드시 포함해야 합니다. 포함하지 않으면 아래 예외가 발생합니다.\n",
    "\n",
    "```bash\n",
    "BadRequestError: Error code: 400 - {'error': {'message': \"An assistant message with 'tool_calls' must be followed by tool messages responding to each 'tool_call_id'. The following tool_call_ids did not have response messages: call_fYvY8JqNETCbLV8k9wShwY6S\", 'type': 'invalid_request_error', 'param': 'messages', 'code': None}}\n",
    "\n",
    "```"
   ]
  },
  {
   "cell_type": "code",
   "execution_count": 76,
   "metadata": {},
   "outputs": [
    {
     "name": "stdout",
     "output_type": "stream",
     "text": [
      "Error code: 400 - {'error': {'message': \"An assistant message with 'tool_calls' must be followed by tool messages responding to each 'tool_call_id'. The following tool_call_ids did not have response messages: call_UjKqrE1L3sliXCIgs3FjuPyH\", 'type': 'invalid_request_error', 'param': 'messages', 'code': None}}\n"
     ]
    }
   ],
   "source": [
    "from openai import BadRequestError\n",
    "\n",
    "try :\n",
    "    chat([\n",
    "        message,            # 최초 요청\n",
    "        tool_call_result,   # tool_calls 메시지 (ChatCompletionMessage)\n",
    "    ])\n",
    "\n",
    "    assert False, \"반드시 통과해야 합니다.\"\n",
    "except BadRequestError as e:\n",
    "    # 예외 발생!\n",
    "    print(e)\n"
   ]
  },
  {
   "cell_type": "code",
   "execution_count": 78,
   "metadata": {},
   "outputs": [
    {
     "name": "stdout",
     "output_type": "stream",
     "text": [
      "start search_on_naver. query: 개봉영화\n"
     ]
    },
    {
     "data": {
      "text/plain": [
       "ChatCompletionMessage(content='요즘 새로 개봉한 영화로는 \"미션 임파서블: 파이널 레코닝\"이 있습니다. 또한 재개봉 영화로는 \"플로리다 프로젝트\"와 \"걸어도 걸어도\"가 있으며, \"씨너스(죄인들)\"도 개봉 중입니다.', refusal=None, role='assistant', annotations=[], audio=None, function_call=None, tool_calls=None)"
      ]
     },
     "execution_count": 78,
     "metadata": {},
     "output_type": "execute_result"
    }
   ],
   "source": [
    "import json\n",
    "\n",
    "# 선택된 툴 이름과 파라미터 확인\n",
    "selected_tool_name = tool_call_result.tool_calls[0].function.name\n",
    "selected_tool_arguments = json.loads(tool_call_result.tool_calls[0].function.arguments)\n",
    "\n",
    "messages = [\n",
    "    message,            # 최초 요청\n",
    "    tool_call_result,   # tool_calls 메시지 (ChatCompletionMessage)\n",
    "]\n",
    "\n",
    "if selected_tool_name == 'SearchOnNaver':\n",
    "    messages.append({\n",
    "        \"role\": \"tool\",\n",
    "        \"content\": search_on_naver(selected_tool_arguments['query']),\n",
    "        \"tool_call_id\":tool_call_result.tool_calls[0].id    # 직전 메세지에 포함된 tool 의 id 이어야 함\n",
    "    })\n",
    "\n",
    "if selected_tool_name == 'SearchOnGoogle':\n",
    "    messages.append({\n",
    "        \"role\": \"tool\",\n",
    "        \"content\": search_on_google(selected_tool_arguments['query']),\n",
    "        \"tool_call_id\":tool_call_result.tool_calls[0].id    # 직전 메세지에 포함된 tool 의 id 이어야 함\n",
    "    })\n",
    "\n",
    "chat(messages)"
   ]
  },
  {
   "cell_type": "markdown",
   "metadata": {},
   "source": [
    "## \n",
    "실제로는 아래와 같이 사용가능합니다."
   ]
  },
  {
   "cell_type": "code",
   "execution_count": 85,
   "metadata": {},
   "outputs": [
    {
     "name": "stdout",
     "output_type": "stream",
     "text": [
      "search start... prompt: 구글에서 개봉영화 알려줘\n",
      "search... tool calling is working.\n",
      "search... selected SearchOnGoogle for {'query': '개봉영화'}\n",
      "start search_on_naver. query: 개봉영화\n",
      "현재 구글에서 확인된 개봉 영화로는 \"미션 임파서블: 파이널 레코닝\", \"플로리다 프로젝트(재개봉)\", \"걸어도 걸어도(재개봉)\", \"씨너스(죄인들)\" 등이 있습니다. 더 자세한 정보를 원하시면 말씀해 주세요."
     ]
    }
   ],
   "source": [
    "from typing import Dict\n",
    "\n",
    "def printStream(response):\n",
    "    for chunk in response:\n",
    "        content = chunk.choices[0].delta.content\n",
    "        if content is not None:\n",
    "            print(content, end='')\n",
    "\n",
    "def search_on_tool(name: str, query: str):\n",
    "    result = \"검색된 결과가 없습니다.\"\n",
    "    if selected_tool_name == 'SearchOnNaver':\n",
    "        result = search_on_naver(**selected_tool_arguments)\n",
    "\n",
    "    if selected_tool_name == 'SearchOnGoogle':\n",
    "        result = search_on_google(**selected_tool_arguments)\n",
    "\n",
    "    return result\n",
    "\n",
    "def search(prompt: str):\n",
    "    print(f'search start... prompt: {prompt}')\n",
    "    messages = [\n",
    "        {\n",
    "            \"role\": \"user\",\n",
    "            \"content\": prompt\n",
    "        }\n",
    "    ]\n",
    "\n",
    "    tool_call_result = chat(messages)\n",
    "\n",
    "    # tool 이 선택된 경우\n",
    "    if tool_call_result.tool_calls:\n",
    "        print('search... tool calling is working.')\n",
    "        \n",
    "        selected_tool_name = tool_call_result.tool_calls[0].function.name\n",
    "        selected_tool_arguments: Dict[str] = json.loads(tool_call_result.tool_calls[0].function.arguments)\n",
    "        print(f'search... selected {selected_tool_name} for {selected_tool_arguments}')\n",
    "\n",
    "        search_result = search_on_tool(selected_tool_name, selected_tool_arguments['query'])\n",
    "        \n",
    "        # 프롬프트 + 툴 요청 + 툴 실행 결과 전달\n",
    "        messages.append(tool_call_result)\n",
    "        messages.append({\n",
    "            \"role\": \"tool\",\n",
    "            \"content\": search_result,\n",
    "            \"tool_call_id\": tool_call_result.tool_calls[0].id\n",
    "        })\n",
    "\n",
    "        response = chat(messages, stream=True)\n",
    "        printStream(response)\n",
    "    else:\n",
    "        print('search... tool calling is not working.')\n",
    "        print(tool_call_result.content)\n",
    "\n",
    "prompt = \"\"\"구글에서 개봉영화 알려줘\"\"\"\n",
    "\n",
    "search(prompt)"
   ]
  },
  {
   "cell_type": "markdown",
   "metadata": {},
   "source": [
    "### [심화] Parallel tool calling\n",
    "\n",
    "하나의 메세지에 여러 tool 이 선택될 수도 있습니다."
   ]
  },
  {
   "cell_type": "code",
   "execution_count": null,
   "metadata": {},
   "outputs": [
    {
     "data": {
      "text/plain": [
       "[ChatCompletionMessageToolCall(id='call_SOwvN7YBmuirFsHLJVJFKQkw', function=Function(arguments='{\"query\": \"1970년대 영화 명작\"}', name='SearchOnNaver'), type='function'),\n",
       " ChatCompletionMessageToolCall(id='call_bLo6cTok9Lv8McMI1EWAJUBL', function=Function(arguments='{\"query\": \"2000년대 영화 명작\"}', name='SearchOnNaver'), type='function')]"
      ]
     },
     "execution_count": 80,
     "metadata": {},
     "output_type": "execute_result"
    }
   ],
   "source": [
    "tool_call_result = chat([\n",
    "    {\n",
    "        \"role\": \"user\",\n",
    "        \"content\": \"\"\"네이버에서 1970년대 영화, 2000년대 영화 명작 추천해줘\"\"\"\n",
    "    }\n",
    "])\n",
    "\n",
    "assert len(tool_call_result.tool_calls) > 1, \"툴이 하나만 선택되었습니다.\"\n",
    "\n",
    "tool_call_result.tool_calls"
   ]
  },
  {
   "cell_type": "markdown",
   "metadata": {},
   "source": [
    "<br />\n",
    "<br />\n",
    "\n",
    "여러 개의 툴이 선택되었을 때 모든 툴의 실행 결과를 한번에 llm 에게 전달 할 수 있습니다.\n",
    "다만, 이럴 경우 한번에 입력되는 툴 출력이 너무 길어 할루시네이션이 발생할 수 있습니다. \n",
    "\n",
    "이를 방지하기 위해 첫번째 툴 호출 -> llm 전달 --> 두번째 툴 호출 -> ... 와 같은 형태로 수행해야 합니다. 즉, 전체 플로우는 아래와 같습니다.\n",
    "\n",
    "```\n",
    "user: 네이버에서 1970년대 영화, 2000년대 영화 명작 추천해줘\n",
    "  ↓\n",
    "assistant: tool name: naver, tool arguments: 1970년대 명작\n",
    "  ↓\n",
    "application: tool 수행\n",
    "  ↓\n",
    "tool: tool 수행결과\n",
    "  ↓\n",
    "assistant: tool name: naver, tool arguments: 2000년대 명작\n",
    "  ↓\n",
    "application: tool 수행\n",
    "  ↓\n",
    "tool: tool 수행결과\n",
    "  ↓\n",
    "assistant: 지금까지의 컨텍스트를 통해 최종 결과 반환.\n",
    "```\n",
    "\n",
    "툴 실행에 대한 모든 컨텍스트를 llm 에게 전달해주므로 다음에는 어떤 툴을 실행해야하는지 llm 이 판달할 수 있습니다."
   ]
  },
  {
   "cell_type": "code",
   "execution_count": null,
   "metadata": {},
   "outputs": [
    {
     "name": "stdout",
     "output_type": "stream",
     "text": [
      "search start... prompt: 네이버에서 1970년대 영화, 2000년대 영화 명작 추천해줘\n",
      "search... tool calling is working. ChatCompletionMessage(content=None, refusal=None, role='assistant', annotations=[], audio=None, function_call=None, tool_calls=[ChatCompletionMessageToolCall(id='call_Z2pbn8i0dQ5NLfa96FwymM3V', function=Function(arguments='{\"query\":\"1970년대 영화 명작\"}', name='SearchOnNaver'), type='function')])\n",
      "search... selected SearchOnNaver for {'query': '1970년대 영화 명작'}\n",
      "start search_on_naver. query: 개봉영화\n",
      "search... tool calling is working. ChatCompletionMessage(content=None, refusal=None, role='assistant', annotations=[], audio=None, function_call=None, tool_calls=[ChatCompletionMessageToolCall(id='call_Gta77fkfOUzL0BWkAkqrH9FH', function=Function(arguments='{\"query\":\"2000년대 영화 명작\"}', name='SearchOnNaver'), type='function')])\n",
      "search... selected SearchOnNaver for {'query': '2000년대 영화 명작'}\n",
      "start search_on_naver. query: 개봉영화\n"
     ]
    }
   ],
   "source": [
    "from typing import Dict\n",
    "\n",
    "def search_without_parallel(prompt: str):\n",
    "    print(f'search start... prompt: {prompt}')\n",
    "    messages = [\n",
    "        {\n",
    "            \"role\": \"user\",\n",
    "            \"content\": prompt\n",
    "        }\n",
    "    ]\n",
    "\n",
    "    tool_call_result = chat(messages, parallel_tool_calls=False)\n",
    "\n",
    "    while tool_call_result.tool_calls:\n",
    "        print(f'search... tool calling is working. {tool_call_result}')\n",
    "        messages.append(tool_call_result)\n",
    "\n",
    "        selected_tool_name = tool_call_result.tool_calls[0].function.name\n",
    "        selected_tool_arguments: Dict[str] = json.loads(tool_call_result.tool_calls[0].function.arguments)\n",
    "        print(f'search... selected {selected_tool_name} for {selected_tool_arguments}')\n",
    "\n",
    "        search_result = search_on_tool(selected_tool_name, selected_tool_arguments['query'])\n",
    "\n",
    "        messages.append({\n",
    "            \"role\": \"tool\",\n",
    "            \"content\": search_result,\n",
    "            \"tool_call_id\": tool_call_result.tool_calls[0].id\n",
    "        })\n",
    "\n",
    "        tool_call_result = chat(messages)\n",
    "\n",
    "prompt = \"\"\"네이버에서 1970년대 영화, 2000년대 영화 명작 추천해줘\"\"\"\n",
    "\n",
    "search_without_parallel(prompt)"
   ]
  },
  {
   "cell_type": "markdown",
   "metadata": {},
   "source": [
    "좋지만 흐름제어, 중단 등을 수행하기 까다롭다."
   ]
  },
  {
   "cell_type": "markdown",
   "metadata": {},
   "source": []
  }
 ],
 "metadata": {
  "kernelspec": {
   "display_name": "base",
   "language": "python",
   "name": "python3"
  },
  "language_info": {
   "codemirror_mode": {
    "name": "ipython",
    "version": 3
   },
   "file_extension": ".py",
   "mimetype": "text/x-python",
   "name": "python",
   "nbconvert_exporter": "python",
   "pygments_lexer": "ipython3",
   "version": "3.12.9"
  }
 },
 "nbformat": 4,
 "nbformat_minor": 2
}
