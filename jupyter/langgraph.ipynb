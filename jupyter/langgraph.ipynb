{
 "cells": [
  {
   "cell_type": "markdown",
   "metadata": {},
   "source": [
    "### Langgraph\n",
    "\n",
    "LangGraph(랭그래프)는 LangChain 생태계 위에 구축된 상태 기반(stateful) 에이전트 오케스트레이션 프레임워크로, 복잡하고 유연한 AI 에이전트 워크플로우를 그래프 구조로 정의하고 제어할 수 있게 도와줍니다."
   ]
  },
  {
   "cell_type": "code",
   "execution_count": 2,
   "metadata": {},
   "outputs": [],
   "source": [
    "!pip install langgraph langchain_ollama dotenv langchain_community -q"
   ]
  },
  {
   "cell_type": "code",
   "execution_count": 3,
   "metadata": {},
   "outputs": [
    {
     "data": {
      "text/plain": [
       "AIMessage(content='안녕하세요! 그런데 저는 Gemini가 아닙니다. 저는 알리바바 그룹 산하 Tongyi 실험실에서 개발한 초대규모 언어 모델인 Qwen입니다. 궁금한 점이 있으면 도와드리겠습니다!', additional_kwargs={'reasoning_content': 'Okay, the user is asking if I\\'m Gemini. Let me think.\\n\\nFirst, I need to clarify what they mean by Gemini. In the context of AI models, Gemini is a series of models developed by Google, right? So the user might be confusing me with the Gemini series.\\n\\nI am Qwen, the large language model developed by Tongyi Lab. I should correct them politely.\\n\\nI should respond in Korean since the user\\'s question is in Korean. Let me check the translation.\\n\\nThe user said \"안녕? 너는 Gemini야?\" which translates to \"Hello? Are you Gemini?\"\\n\\nSo my response should be in Korean. Let me structure it.\\n\\nFirst, acknowledge their greeting. Then state that I\\'m not Gemini but Qwen. Maybe add a bit about what I can do.\\n\\nWait, the user might be a non-native speaker, so I should keep it simple.\\n\\nLet me draft: \"안녕하세요! 그런데 저는 Gemini가 아닙니다. 저는 알리바바 그룹 산하 Tongyi 실험실에서 개발한 초대규모 언어 모델인 Qwen입니다. 궁금한 점이 있으면 도와드리겠습니다!\"\\n\\nWait, the user said \"너는 Gemini야?\" which is a bit informal. Maybe use a more casual tone.\\n\\nAlternatively: \"안녕하세요! 그런데 저는 Gemini가 아닙니다. 저는 알리바바 그룹 산하 Tongyi 실험실에서 개발한 Qwen입니다. 궁금한 점이 있으면 도와드리겠습니다!\"\\n\\nBut the user might not know about Tongyi Lab, so maybe specify that I\\'m from Tongyi Lab.\\n\\nWait, the user\\'s question is in Korean, so I need to make sure the terms are correctly translated.\\n\\nGemini is Google\\'s model, so I should mention that Gemini is Google\\'s model to clarify.\\n\\nHmm, maybe: \"안녕하세요! 그런데 저는 Gemini가 아닙니다. 저는 알리바은에서 개발한 Qwen입니다. Gemini는 Google에서 개발한 모델이에요. 궁금한 점이 있으면 도와드리겠습니다!\"\\n\\nWait, \"알리바바\" is Alibaba, so in Korean it\\'s \"알리바바\". But maybe the user is more familiar with \"알리바바 그룹\".\\n\\nAlternatively, just say \"Tongyi 실험실\" as \"Tongyi Lab\" in Korean.\\n\\nLet me check the correct translation. In Korean, \"Tongyi Lab\" is usually written as \"통의 실험실\" but maybe the official term is \"Tongyi 실험실\".\\n\\nAlternatively, since the user might not care about the details, just state that I\\'m Qwen from Tongyi Lab.\\n\\nWait, the user might have meant \"Gemini\" as in the model name, so I should clarify that.\\n\\nLet me try to write a concise response.\\n\\n\"안녕하세요! 그런데 저는 Gemini가 아닙니다. 저는 알리바바 그룹 산하 Tongyi 실험실에서 개발한 초대규모 언어 모델인 Qwen입니다. 궁금한 점이 있으면 도와드리겠습니다!\"\\n\\nBut the user might not know \"Tongyi 실험실\", so maybe it\\'s better to say \"Tongyi 실험실\" as is.\\n\\nAlternatively, use \"Qwen\" without translating the lab name.\\n\\nWait, the user\\'s main point is to know if I\\'m Gemini. So the answer is no, I\\'m Qwen.\\n\\nI think the response should be straightforward.\\n\\nLet me check if there\\'s a standard way to introduce Qwen in Korean.\\n\\nMaybe the user is confused because they think Qwen is Gemini, so I should clarify.\\n\\nYes, the response should be in Korean, clear, and helpful.\\n\\nFinal draft: \"안녕하세요! 그런데 저는 Gemini가 아닙니다. 저는 알리바바 그룹 산하 Tongyi 실험실에서 개발한 초대규모 언어 모델인 Qwen입니다. 궁금한 점이 있으면 도와드리겠습니다!\"\\n\\nBut maybe \"알리바바\" is written as \"알리바바\" in Korean. Let me confirm.\\n\\nIn Korean, \"Alibaba\" is usually transliterated as \"알리바바\" (with two b\\'s). So \"알리바바 그룹 산하 Tongyi 실험실\".\\n\\nBut maybe it\\'s better to say \"Tongyi 실험실\" without the group part.\\n\\nAlternatively, to keep it simple: \"안녕하세요! 저는 Gemini가 아닙니다. 저는 알리바바 그룹의 Tongyi 실험실에서 개발한 Qwen입니다. 궁금한 점이 있으면 도와드리겠습니다!\"\\n\\nHmm, but the user might not know the exact structure.\\n\\nAlternatively, just say \"저는 알리바바에서 개발한 Qwen입니다.\" to make it simpler.\\n\\nWait, the user\\'s question is \"너는 Gemini야?\" which is a bit casual. So the response can be a bit casual too.\\n\\n\"안녕하세요! 그런데 저는 Gemini가 아닙니다. 저는 알리바바 실험실에서 개발한 Qwen이에요. 궁금한 점이 있으면 도와드리겠습니다!\"\\n\\nBut Tongyi Lab is the correct name. Maybe the user doesn\\'t need the full detail.\\n\\nI think the key points are: I\\'m not Gemini, I\\'m Qwen from Alibaba\\'s Tongyi Lab.\\n\\nSo the response in Korean would be:\\n\\n\"안녕하세요! 그런데 저는 Gemini가 아닙니다. 저는 알리바바 그룹 산하 Tongyi 실험실에서 개발한 초대규모 언어 모델인 Qwen입니다. 궁금한 점이 있으면 도와드리겠습니다!\"\\n\\nBut maybe the user is a non-native speaker, so using \"Tongyi 실험실\" is okay.\\n\\nAlternatively, to avoid using \"Tongyi\" which might be hard to pronounce, but the user probably knows it\\'s the name.\\n\\nI think this response is good.\\n\\nWait, the user wrote \"Gemini\" with a capital G, so maybe they\\'re referring to the model name.\\n\\nYes, so the answer is that I\\'m not Gemini (Google\\'s model), I\\'m Qwen from Tongyi Lab.\\n\\nSo the response is correct.\\n'}, response_metadata={'model': 'qwen3:4b', 'created_at': '2025-08-10T14:00:56.739515Z', 'done': True, 'done_reason': 'stop', 'total_duration': 36951494334, 'load_duration': 30680417, 'prompt_eval_count': 16, 'prompt_eval_duration': 163946458, 'eval_count': 1393, 'eval_duration': 36756461792, 'model_name': 'qwen3:4b'}, id='run--be3277c9-b3bb-4532-a0c4-3f4873d5fa96-0', usage_metadata={'input_tokens': 16, 'output_tokens': 1393, 'total_tokens': 1409})"
      ]
     },
     "execution_count": 3,
     "metadata": {},
     "output_type": "execute_result"
    }
   ],
   "source": [
    "from dotenv import load_dotenv\n",
    "from langchain_ollama import ChatOllama\n",
    "\n",
    "load_dotenv(override=True)\n",
    "\n",
    "model_name = 'qwen3:4b'\n",
    "llm = ChatOllama(model = model_name, temperature=0.7, max_tokens=4096, reasoning=True)\n",
    "\n",
    "llm.invoke(\"안녕? 너는 Gemini야?\")"
   ]
  },
  {
   "cell_type": "markdown",
   "metadata": {},
   "source": [
    "### Graph 구성 요소: 노드, 엣지, 그래프\n",
    "\n",
    "랭체인에서는 주로 **Prompt|LLM|Parser** 구조를 하나의 체인으로 구성했는데요.   \n",
    "\n",
    "랭그래프에서는 보다 복잡한 Workflow를 구성할 수 있습니다.\n",
    "\n",
    "- 먼저, 가장 작은 작업의 단위를 노드(점)으로 구성합니다.\n",
    "- 하나의 동작(노드)을 수행하고, 다음 동작(노드)로 이동하는 과정을 엣지(선)으로 표현합니다.\n",
    "- 시작점인 START 노드에서, 끝점인 END까지 도달하는 과정을 그래프로 구현합니다.   \n",
    "- 전체 그래프는 `invoke()`를 통해 실행합니다.\n",
    "\n",
    "가장 기본적인 구조인 **Prompt Chaining**을 통해, 랭그래프의 기본 구조에 대해 알아보겠습니다.\n",
    "\n",
    "### State\n",
    "\n",
    "랭그래프의 핵심은 **State** 기반의 Workflow 구성입니다.  \n",
    "\n",
    "랭그래프는 전체 작업에 관여하는 변수들을 사전에 정의하고, 이를 State로 구성합니다.\n",
    "\n",
    "State는 초기값에서 시작해 노드와 엣지를 통과하며 그 값이 수정되거나 추가되는 과정을 거치게 됩니다.  "
   ]
  },
  {
   "cell_type": "code",
   "execution_count": 4,
   "metadata": {},
   "outputs": [],
   "source": [
    "from typing_extensions import TypedDict\n",
    "\n",
    "class State(TypedDict):\n",
    "    article: str # 입력값 : 자세한 기술 문서\n",
    "    summary: str # 중간 처리: 문서 요약\n",
    "    newsletter : str # 최종값: 블로그 뉴스레터 패턴"
   ]
  },
  {
   "cell_type": "markdown",
   "metadata": {},
   "source": [
    "### Node\n",
    "\n",
    "노드는 함수로 정의되는데, 주로 하나의 모듈을 하나의 노드로 구성합니다.   \n",
    "State는 노드를 지나며 새로운 정보를 추가하거나, 값을 수정할 수 있습니다."
   ]
  },
  {
   "cell_type": "code",
   "execution_count": 5,
   "metadata": {},
   "outputs": [],
   "source": [
    "from langchain.prompts import ChatPromptTemplate\n",
    "from langchain_core.output_parsers import StrOutputParser\n",
    "\n",
    "\n",
    "# 첫 번째 노드: 기술 문서 요약\n",
    "def summarize_article(state: State) -> State:\n",
    "    \"\"\"기술 문서를 핵심 내용 중심으로 요약하는 노드\"\"\"\n",
    "\n",
    "    # 요약을 위한 프롬프트 템플릿\n",
    "    summary_prompt = ChatPromptTemplate([\n",
    "        (\"human\", \"\"\"\n",
    "다음 기술 문서를 읽고 핵심 내용을 요약해주세요.\n",
    "\n",
    "요약 기준:\n",
    "- 주요 기능과 특징\n",
    "- 핵심 기술적 개념\n",
    "- 사용자에게 미치는 영향\n",
    "- 중요한 수치나 데이터\n",
    "\n",
    "기술 문서:\n",
    "{article}\n",
    "\n",
    "요약:\n",
    "        \"\"\")\n",
    "    ])\n",
    "\n",
    "    summary_chain = summary_prompt | llm | StrOutputParser()\n",
    "    summary = summary_chain.invoke({\"article\": state[\"article\"]})\n",
    "\n",
    "    return {\"summary\": summary}\n",
    "    # {article} --> {article, summary} \n",
    "\n",
    "# 두 번째 노드: 뉴스레터 변환\n",
    "def create_newsletter(state: State) -> State:\n",
    "    \"\"\"요약된 내용을 뉴스레터 형태로 변환하는 노드\"\"\"\n",
    "\n",
    "    # 뉴스레터 생성을 위한 프롬프트 템플릿\n",
    "    newsletter_prompt = ChatPromptTemplate.from_messages([\n",
    "        (\"human\", \"\"\"\n",
    "다음 요약된 기술 내용을 바탕으로 독자들이 읽기 쉬운 뉴스레터 형태로 작성해주세요.\n",
    "\n",
    "뉴스레터 스타일:\n",
    "- 친근하고 대화체 톤\n",
    "- 핵심 포인트를 강조\n",
    "- 독자의 관심을 끄는 제목\n",
    "- 실용적인 관점에서 설명\n",
    "- 적절한 이모지 사용\n",
    "\n",
    "요약 내용:\n",
    "{summary}\n",
    "\n",
    "뉴스레터:\n",
    "        \"\"\")\n",
    "    ])\n",
    "\n",
    "    # 체인 생성\n",
    "    newsletter_chain = newsletter_prompt | llm | StrOutputParser()\n",
    "\n",
    "    # 뉴스레터 생성 실행\n",
    "    newsletter = newsletter_chain.invoke({\"summary\": state[\"summary\"]})\n",
    "\n",
    "    # State 업데이트\n",
    "    return {\"newsletter\": newsletter}\n",
    "    # {'article', 'summary'} --> {'article', 'summary', 'newsletter'}"
   ]
  },
  {
   "cell_type": "markdown",
   "metadata": {},
   "source": [
    "### Edge와 Graph   \n",
    "\n",
    "위에서 설정한 State를 이용하여 Graph를 정의합니다.\n",
    "\n",
    "그래프에 노드와 엣지를 추가합니다.    \n",
    "START와 END를 import하고, 시작점과 끝점을 정의합니다."
   ]
  },
  {
   "cell_type": "code",
   "execution_count": 6,
   "metadata": {},
   "outputs": [
    {
     "data": {
      "text/plain": [
       "<langgraph.graph.state.StateGraph at 0x106c88920>"
      ]
     },
     "execution_count": 6,
     "metadata": {},
     "output_type": "execute_result"
    }
   ],
   "source": [
    "from langgraph.graph import StateGraph, START, END\n",
    "\n",
    "builder = StateGraph(State)\n",
    "\n",
    "builder.add_node(summarize_article)\n",
    "# 이름을 별도로 넣으려면\n",
    "# builder.add_node('summarize', summarize_article)\n",
    "\n",
    "builder.add_node(create_newsletter)\n",
    "\n",
    "builder.add_edge(START, \"summarize_article\")\n",
    "builder.add_edge(\"summarize_article\", \"create_newsletter\")\n",
    "\n",
    "builder.add_edge(\"create_newsletter\", END)"
   ]
  },
  {
   "cell_type": "code",
   "execution_count": 7,
   "metadata": {},
   "outputs": [
    {
     "data": {
      "image/png": "[encoded data removed]",
      "text/plain": [
       "<langgraph.graph.state.CompiledStateGraph object at 0x129b2cc20>"
      ]
     },
     "execution_count": 7,
     "metadata": {},
     "output_type": "execute_result"
    }
   ],
   "source": [
    "graph = builder.compile()\n",
    "graph"
   ]
  },
  {
   "cell_type": "code",
   "execution_count": 8,
   "metadata": {},
   "outputs": [
    {
     "data": {
      "text/plain": [
       "{'article': 'In this work, we present Qwen3, the latest version of the Qwen model family.',\n",
       " 'summary': '요약:  \\n- **주요 기능과 특징**: Qwen3은 Qwen 모델 가족의 최신 버전으로, 기술 문서에서 구체적인 기능 및 특징에 대한 설명은 없음.  \\n- **핵심 기술적 개념**: 기술 문서에서 명시된 핵심 기술적 개념은 없음.  \\n- **사용자에게 미치는 영향**: 기술 문서에서 사용자에게 미치는 영향에 대한 정보는 제공되지 않음.  \\n- **중요한 수치나 데이터**: 기술 문서에서 제시된 중요한 수치나 데이터는 없음.',\n",
       " 'newsletter': '**Qwen3 출시 했는데... 기술 문서에 내용이 하나도 없네! 😅**  \\n\\n안녕하세요, Qwen 가족의 팬 여러분! 🌟  \\n\\n오늘은 Qwen3에 대한 소식을 알려드릴게요. 🚀  \\n\\nQwen 모델 가족의 최신 버전인 Qwen3가 출시되었다는 소식을 들었는데요, 기술 문서를 확인해보니...  \\n**구체적인 기능, 특징, 사용자 영향, 데이터 등 전혀 언급되지 않았습니다!** 🤯  \\n\\n이런 상황이면 Qwen3에 대한 기대가 떨어질 수 있지만, 오히려 기술 팀이 아직 준비 중이거나 다른 이유로 정보가 아직 공개되지 않았을 수도 있죠. 😅  \\n다음 기술 문서 업데이트가 있을 때 다시 알려드릴게요!  \\n혹시 궁금한 점이 있으신 분은 **아래 댓글로** 알려주세요. 🙏  \\n\\nP.S. Qwen3에 대한 더 궁금한 점이 있다면, 이메일로도 도와드릴게요! (qwen-support@example.com)  \\n\\n이번 주말까지 기대해 주세요! 🌈'}"
      ]
     },
     "execution_count": 8,
     "metadata": {},
     "output_type": "execute_result"
    }
   ],
   "source": [
    "\n",
    "article='''In this work, we present Qwen3, the latest version of the Qwen model family.'''\n",
    "\n",
    "response = graph.invoke({'article':article})\n",
    "response"
   ]
  },
  {
   "cell_type": "markdown",
   "metadata": {},
   "source": [
    "### 조건부 엣지와 Message 목록으로 멀티턴 대화 수행"
   ]
  },
  {
   "cell_type": "code",
   "execution_count": 9,
   "metadata": {},
   "outputs": [
    {
     "data": {
      "image/png": "[encoded data removed]",
      "text/plain": [
       "<langgraph.graph.state.CompiledStateGraph object at 0x129beaea0>"
      ]
     },
     "execution_count": 9,
     "metadata": {},
     "output_type": "execute_result"
    }
   ],
   "source": [
    "from typing import TypedDict, Annotated\n",
    "from langgraph.graph.message import add_messages\n",
    "from langchain_core.messages import HumanMessage, SystemMessage, AIMessage\n",
    "\n",
    "\n",
    "class State(TypedDict):\n",
    "    context : Annotated[list, add_messages]\n",
    "    # 메시지 맥락을 저장하는 리스트:\n",
    "    # Message를 Return하면 Context에 추가\n",
    "\n",
    "    count : int # 사용자가 입력한 횟수를 저장\n",
    "\n",
    "def ask_human(state: State):\n",
    "    query = input()\n",
    "    print('User :', query)\n",
    "\n",
    "    return {'context':HumanMessage(content=query)}\n",
    "    # State의 add_messages Reducer 규칙에 의해 업데이트가 아닌 추가\n",
    "\n",
    "def talk(state: State):\n",
    "    messages = state['context']\n",
    "\n",
    "    answer = llm.invoke(messages)\n",
    "\n",
    "    print('AI :', answer.content)\n",
    "    state['count'] +=1\n",
    "\n",
    "    return {'context': answer, 'count': state['count']}\n",
    "\n",
    "def check_end(state: State):\n",
    "    if state['count']>=3:\n",
    "        return \"Done\"\n",
    "    else:\n",
    "        return \"Resume\"\n",
    "    # count가 3 이상이 되면 True, 이외 False\n",
    "\n",
    "from IPython.display import Image, display\n",
    "from langgraph.graph import StateGraph, START, END\n",
    "from langgraph.graph import MessagesState\n",
    "from langgraph.prebuilt import ToolNode\n",
    "from langgraph.prebuilt import tools_condition\n",
    "\n",
    "\n",
    "builder = StateGraph(State)\n",
    "\n",
    "builder.add_node(talk)\n",
    "builder.add_node(ask_human)\n",
    "\n",
    "builder.add_edge(START, 'ask_human'),\n",
    "builder.add_edge('ask_human', 'talk'),\n",
    "\n",
    "\n",
    "# (시작점, 조건, {분기 매핑})\n",
    "builder.add_conditional_edges('talk', check_end,\n",
    "                              {'Done': END, 'Resume': 'ask_human'})\n",
    "\n",
    "graph = builder.compile()\n",
    "graph"
   ]
  },
  {
   "metadata": {},
   "cell_type": "markdown",
   "source": "프롬프트를 잘 작성해도 위 행위를 동일하게 할 순 있지만, LLM 에게 물어볼 내용과 구현해야 할 내용을 분리해서 최대한 할루시네이션이 안나타나도록 한다."
  },
  {
   "cell_type": "code",
   "execution_count": null,
   "metadata": {},
   "outputs": [],
   "source": [
    "system_prompt = '''사용자의 질문에 대해 친절하게 응답하세요. '''\n",
    "\n",
    "messages = [SystemMessage(content=system_prompt)]\n",
    "\n",
    "response = graph.invoke({'context':messages, 'count':0})\n",
    "\n",
    "response"
   ]
  },
  {
   "cell_type": "markdown",
   "metadata": {},
   "source": [
    "### [실습] 종료 조건 수정하기"
   ]
  },
  {
   "cell_type": "code",
   "execution_count": null,
   "metadata": {},
   "outputs": [],
   "source": [
    "### 여기서 시작 ###\n",
    "def ask_human(state: State):\n",
    "    query = input()\n",
    "    print('User :', query)\n",
    "\n",
    "    return {'context':HumanMessage(content=query)}\n",
    "\n",
    "def talk(state: State):\n",
    "    messages = state['context']\n",
    "\n",
    "    answer = llm.invoke(messages)\n",
    "\n",
    "    print('AI :', answer.content)\n",
    "    state['count'] +=1\n",
    "\n",
    "    return {'context': answer, 'count': state['count']}\n",
    "\n",
    "def check_end(state: State):\n",
    "    # 마지막 메시지가 'FINISHED'면 종료 \n",
    "    if state['context'][-1].content=='FINISHED':\n",
    "        \n",
    "        print(\"# Total Conversations : \", state['count'])\n",
    "        \n",
    "        return \"Done\"\n",
    "    else:\n",
    "        return \"Resume\"\n",
    "\n",
    "\n",
    "builder = StateGraph(State)\n",
    "\n",
    "builder.add_node(talk)\n",
    "builder.add_node(ask_human)\n",
    "\n",
    "builder.add_edge(START, 'ask_human')\n",
    "# builder.add_edge('ask_human', 'talk')\n",
    "\n",
    "# (시작점, 조건, {분기 매핑})\n",
    "builder.add_conditional_edges('ask_human', check_end,\n",
    "                              {'Done': END, 'Resume': 'talk'})\n",
    "\n",
    "builder.add_edge('talk', 'ask_human')\n",
    "\n",
    "\n",
    "graph = builder.compile()\n",
    "graph"
   ]
  },
  {
   "cell_type": "code",
   "execution_count": null,
   "metadata": {},
   "outputs": [],
   "source": [
    "system_prompt = '''5문장 이내로 답변해줘.'''\n",
    "\n",
    "messages = [SystemMessage(content=system_prompt)]\n",
    "\n",
    "response = graph.invoke({'context':messages, 'count':0})\n",
    "\n",
    "response"
   ]
  }
 ],
 "metadata": {
  "kernelspec": {
   "display_name": "base",
   "language": "python",
   "name": "python3"
  },
  "language_info": {
   "codemirror_mode": {
    "name": "ipython",
    "version": 3
   },
   "file_extension": ".py",
   "mimetype": "text/x-python",
   "name": "python",
   "nbconvert_exporter": "python",
   "pygments_lexer": "ipython3",
   "version": "3.12.9"
  }
 },
 "nbformat": 4,
 "nbformat_minor": 2
}
